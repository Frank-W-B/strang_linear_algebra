{
 "cells": [
  {
   "cell_type": "markdown",
   "metadata": {},
   "source": [
    "## Lecture 1: The Geometry of Linear Equations\n",
    "\n",
    "Follow along with Strang's [first lecture](http://ocw.mit.edu/courses/mathematics/18-06-linear-algebra-spring-2010/video-lectures/lecture-1-the-geometry-of-linear-equations).\n",
    "\n",
    "These notebooks are not a textbook. They're not meant to serve as a replacement for a textbook. Think of them more as a lab notebook kept while watching Strang's execellent linear algebra lectures while translating the concepts to Python. You will probably be confused if you don't watch the lectures as well.\n",
    "\n",
    "Why linear algebra? Let's hear from the source himself:\n",
    "\n",
    ">I personally believe that many more people need linear algebra than calculus. Isaac\n",
    ">Newton might not agree! But he isn’t teaching mathematics in the 21st century (and\n",
    ">maybe he wasn’t a great teacher, but we will give him the benefit of the doubt).>Certainly the laws of physics are well expressed by differential equations. Newton needed\n",
    ">calculus—quite right. But the scope of science and engineering and management (and\n",
    ">life) is now so much wider, and linear algebra has moved into a central place.\n",
    "\n",
    "- Gilbert Strang, *Linear Algebra and Its Applications*, 4th edition, p. iv."
   ]
  },
  {
   "cell_type": "markdown",
   "metadata": {},
   "source": [
    "The primary packages that we'll be using to learn linear algebra are [NumPy](http://www.numpy.org/) and [SciPy](http://www.scipy.org/). For some things, we'll also use [SymPy](http://www.sympy.org). \n",
    "\n",
    "NumPy is a fast numerical computing package that, among other things, specializes in vector and matrix operations. The fundamental data structure in NumPy is called an *array*. One dimensional arrays are vectors while multi-dimensional arrays are matrices. In addition, we'll be using [Matplotlib](http://matplotlib.org/) when we need to create visualizations. Matplotlib isn't the most user friendly package (by a country mile), but it plays nicely with NumPy arrays. \n",
    "\n",
    "If you've ever had experience using Matlab, NumPy will feel fairly natural to you (however, if you're reading an introduction to linear algebra, you most likely haven't used Matlab all that much!\n",
    "\n",
    "NumPu provides approximate answers, however, as answers may be irrational. For many of the matrix operations we'll be performing (especially early on), we want exact answers. SymPy can provide us with those.\n",
    "\n",
    "NumPy and SciPy can be an absolute pain to build from scratch, so I recommend using [Anaconda](https://store.continuum.io/cshop/anaconda/), a free Python distribution which comes with all of the packages pre-built for you.\n",
    "\n",
    "All of the notebooks have been written using Python 3.4, but most things should work fine in Python 2.X as well.\n",
    "\n",
    "**NOTE**: Some of the slides will be quite verbose with text and formulas and very little actual Python code. This is just the nature of how efficient NumPy is at performing these operations. I'm not trying to reconstruct NumPy from first principles. Rather, I'm trying to take notes on Strang's lectures and show his work while showing how that work can be reproduced with ease using NumPy.\n",
    "\n",
    "Finally, a bit about indexing. Strang's lectures treat matrices as *1-indexed*, which means that rows and columns start counting at 1. The first item in the first row of a matrix is identifed as [1, 1]. Python, on the other hand, is a *0-indexed* language, and this includes NumPy. This means that the same item in the same matrix will be identified as [0, 0]. While this is confusing at first, it's a common thing to encounter, so it's worth getting used to. Other statistical languges such as R and Julia are 1-indexed as well. \n",
    "\n",
    "We can use Python's slicing syntax to index rows and columns."
   ]
  },
  {
   "cell_type": "code",
   "execution_count": 5,
   "metadata": {
    "collapsed": false
   },
   "outputs": [],
   "source": [
    "from __future__ import division, print_function\n",
    "\n",
    "from IPython.display import YouTubeVideo\n",
    "\n",
    "import sympy as sym"
   ]
  },
  {
   "cell_type": "code",
   "execution_count": 3,
   "metadata": {
    "collapsed": false
   },
   "outputs": [
    {
     "data": {
      "text/html": [
       "\n",
       "        <iframe\n",
       "            width=\"400\"\n",
       "            height=\"300\"\n",
       "            src=\"https://www.youtube.com/embed/ZK3O402wf1c\"\n",
       "            frameborder=\"0\"\n",
       "            allowfullscreen\n",
       "        ></iframe>\n",
       "        "
      ],
      "text/plain": [
       "<IPython.lib.display.YouTubeVideo at 0x7f9d744bc940>"
      ]
     },
     "execution_count": 3,
     "metadata": {},
     "output_type": "execute_result"
    }
   ],
   "source": [
    "YouTubeVideo('ZK3O402wf1c') "
   ]
  },
  {
   "cell_type": "code",
   "execution_count": 7,
   "metadata": {
    "collapsed": false
   },
   "outputs": [],
   "source": [
    "%matplotlib inline\n",
    "\n",
    "import matplotlib.pyplot as plt\n",
    "import numpy as np"
   ]
  },
  {
   "cell_type": "markdown",
   "metadata": {},
   "source": [
    "We begin by talking a bit about solving systems of linear equations, the most basic case being *n* equations with *n* unknowns. \n",
    "\n",
    "We'll start by representing these equations in matrices and then solving the equations, first using the rows, then using the columns, then using matrix operations.\n",
    "\n",
    "\\begin{array}{rcl} 2x - y & = & 0 \\\\ -x + 2y & = & 3 \\end{array}\n",
    "\n",
    "These equations can be represented in matrix form first with a *coefficient matrix*, which we'll call **A**. \n",
    "\n",
    "We'll create a two-dimensional NumPy array. You could also represent this in pure Python using a list of lists. "
   ]
  },
  {
   "cell_type": "markdown",
   "metadata": {},
   "source": [
    "The coefficient matrix **A** looks like this:\n",
    "\n",
    "<center>\n",
    "    $\\pmb{A} = \\begin{bmatrix}\n",
    "            2, -1 \\\\\n",
    "            -1, 2\n",
    "    \\end{bmatrix}$\n",
    "</center>\n",
    "\n",
    "We can declare the same matrix in NumPy:"
   ]
  },
  {
   "cell_type": "code",
   "execution_count": 8,
   "metadata": {
    "collapsed": false
   },
   "outputs": [
    {
     "data": {
      "text/plain": [
       "array([[ 2, -1],\n",
       "       [-1,  2]])"
      ]
     },
     "execution_count": 8,
     "metadata": {},
     "output_type": "execute_result"
    }
   ],
   "source": [
    "A = np.array([[2, -1],\n",
    "              [-1, 2]])\n",
    "\n",
    "A"
   ]
  },
  {
   "cell_type": "markdown",
   "metadata": {},
   "source": [
    "Or as a matrix in SymPy:"
   ]
  },
  {
   "cell_type": "code",
   "execution_count": 9,
   "metadata": {
    "collapsed": false
   },
   "outputs": [
    {
     "data": {
      "text/plain": [
       "Matrix([\n",
       "[ 2, -1],\n",
       "[-1,  2]])"
      ]
     },
     "execution_count": 9,
     "metadata": {},
     "output_type": "execute_result"
    }
   ],
   "source": [
    "A_sym = sym.Matrix([[2, -1],\n",
    "                    [-1, 2]])\n",
    "A_sym"
   ]
  },
  {
   "cell_type": "markdown",
   "metadata": {},
   "source": [
    "We have two unknowns, *x* and *y*, which we'll represent as a one-dimensional *column vector*:\n",
    "\n",
    "\\begin{bmatrix}\n",
    "    x \\\\\n",
    "    y\n",
    "\\end{bmatrix}\n",
    "\n",
    "In the future, we'll just call this vector of unknowns **x**.\n",
    "\n",
    "Note that the default vector in this course is a **column vector**, but for space-preserving purposes, I will default to writing one-dimensional vectors in NumPy on a single line.\n",
    "\n",
    "Finally, we have a vector that represents the right-hand side (RHS from now on) of the equations, we'll call that **b**. Note that I'm using capital letters for matrices and lower case letters for vectors."
   ]
  },
  {
   "cell_type": "markdown",
   "metadata": {},
   "source": [
    "<center>\n",
    "    $\\pmb{b} = \\begin{bmatrix}\n",
    "                    0 \\\\\n",
    "                    3\n",
    "               \\end{bmatrix}$\n",
    "</center>\n",
    "\n",
    "Or, in NumPy:"
   ]
  },
  {
   "cell_type": "code",
   "execution_count": 206,
   "metadata": {
    "collapsed": false
   },
   "outputs": [
    {
     "data": {
      "text/plain": [
       "array([[0, 3]])"
      ]
     },
     "execution_count": 206,
     "metadata": {},
     "output_type": "execute_result"
    }
   ],
   "source": [
    "b = np.array([[0,\n",
    "               3]])\n",
    "\n",
    "b"
   ]
  },
  {
   "cell_type": "markdown",
   "metadata": {},
   "source": [
    "This gives us the fundamental formula for solving linear equations:\n",
    "\n",
    "<center>$\\pmb{Ax} = \\pmb{b}$</center>\n",
    "\n",
    "We're trying to find the values for **x** that satisfy the two equations. First we'll look at it using what Strang calls \"the row picture\", looking at one row at a time.\n",
    "\n",
    "Taking the first equation $2x - y = 0$, need to plot all the points that satisfy that equation. Which point on the horizontal axis ($y = 0$) satisfies this? $x = 0$, meaning the origin $(0, 0)$ is on this line.\n",
    "\n",
    "Suppose $x = 1$, then $y$ should be 2. Let's plot these. Solutions to this equation lie on this line."
   ]
  },
  {
   "cell_type": "code",
   "execution_count": 221,
   "metadata": {
    "collapsed": false
   },
   "outputs": [
    {
     "data": {
      "image/png": "[encoded data removed]",
      "text/plain": [
       "<matplotlib.figure.Figure at 0x7fda9cd41978>"
      ]
     },
     "metadata": {},
     "output_type": "display_data"
    }
   ],
   "source": [
    "fig, ax = plt.subplots()\n",
    "ax.plot([0, 1], [0, 2], linestyle='-', color='k', linewidth=2)\n",
    "ax.set_xlim([-4, 4])\n",
    "ax.set_ylim([-4, 4])\n",
    "\n",
    "# We could also extend the line out using a little algebra and solving for y.\n",
    "# Probably overkill here, but will do it in red.\n",
    "\n",
    "y_formula = '2 * x_1'\n",
    "x_1 = np.arange(-10, 10)\n",
    "y_1 = eval(y_formula)\n",
    "\n",
    "ax.plot(x_1, y_1, linestyle='--', color='r', linewidth=.5)\n",
    "ax.grid('on')"
   ]
  },
  {
   "cell_type": "markdown",
   "metadata": {},
   "source": [
    "Let's take the second equation, $-x + 2y = 3$. It doesn't go through the origin.\n",
    "\n",
    "If $x = -3$, then $y = 0$. Or if $x = -1$ then $y = 2$"
   ]
  },
  {
   "cell_type": "code",
   "execution_count": 225,
   "metadata": {
    "collapsed": false
   },
   "outputs": [
    {
     "data": {
      "image/png": "[encoded data removed]",
      "text/plain": [
       "<matplotlib.figure.Figure at 0x7fda9d33b128>"
      ]
     },
     "metadata": {},
     "output_type": "display_data"
    }
   ],
   "source": [
    "# Solve for x this time for presentation purposes\n",
    "y_formula = '(3 + x_2) / 2'\n",
    "x_2 = np.arange(-10, 10)\n",
    "y_2 = eval(y_formula)\n",
    "\n",
    "fig, ax = plt.subplots()\n",
    "ax.plot([-3, -1], [0, 1], linestyle='-', color='k', linewidth=2)\n",
    "ax.plot(x_2, y_2, linestyle='--', color='r', linewidth=.5)\n",
    "ax.set(xlim=[-4, 4], ylim=[-4,4])\n",
    "ax.grid('on')"
   ]
  },
  {
   "cell_type": "markdown",
   "metadata": {},
   "source": [
    "Now, if we plot both of those lines at the same time, the point at which they intersect will solve this system of equations."
   ]
  },
  {
   "cell_type": "code",
   "execution_count": 226,
   "metadata": {
    "collapsed": false
   },
   "outputs": [
    {
     "data": {
      "image/png": "[encoded data removed]",
      "text/plain": [
       "<matplotlib.figure.Figure at 0x7fda9de84550>"
      ]
     },
     "metadata": {},
     "output_type": "display_data"
    }
   ],
   "source": [
    "fig, ax = plt.subplots()\n",
    "ax.plot(x_1, y_1, linestyle='--', color='k', linewidth=.5)\n",
    "ax.plot(x_2, y_2, linestyle='--', color='k', linewidth=.5)\n",
    "ax.plot(1, 2, 'o', color='r')\n",
    "ax.set_xlim([-4, 4])\n",
    "ax.set_ylim([-4, 4])\n",
    "ax.grid('on')"
   ]
  },
  {
   "cell_type": "markdown",
   "metadata": {},
   "source": [
    "The lines intersect at (1, 2), meaning:\n",
    "\n",
    "<center>\n",
    "    $\\pmb{x} = \\begin{bmatrix}\n",
    "                    1 \\\\\n",
    "                    2\n",
    "               \\end{bmatrix}$\n",
    "</center>"
   ]
  },
  {
   "cell_type": "markdown",
   "metadata": {},
   "source": [
    "Moving on to the \"column picture.\" We'll now examine the columns of the matrix."
   ]
  },
  {
   "cell_type": "markdown",
   "metadata": {},
   "source": [
    "<center>\n",
    "$\\pmb{x} \\begin{bmatrix} 2 \\\\ -1 \\end{bmatrix} \n",
    "    + \\pmb{y} \\begin{bmatrix} -1 \\\\ 2 \\end{bmatrix}\n",
    "    = \\begin{bmatrix} 0 \\\\ 3 \\end{bmatrix}$\n",
    "</center>"
   ]
  },
  {
   "cell_type": "markdown",
   "metadata": {},
   "source": [
    "So now we're looking for the $x$ and $y$ that tells us how to combine these two vectors to produce the vector $\\pmb{b} = [0, 3]$.\n",
    "\n",
    "This is called a *linear combination*, and it's fundamental operation to linear algebra. \n",
    "\n",
    "Plotting these vectors (each of which have two components so we can plot them in two dimensions)."
   ]
  },
  {
   "cell_type": "code",
   "execution_count": 227,
   "metadata": {
    "collapsed": false
   },
   "outputs": [
    {
     "data": {
      "image/png": "[encoded data removed]",
      "text/plain": [
       "<matplotlib.figure.Figure at 0x7fda9ce2a390>"
      ]
     },
     "metadata": {},
     "output_type": "display_data"
    }
   ],
   "source": [
    "# Solve for x this time for presentation purposes\n",
    "fig, ax = plt.subplots()\n",
    "ax.arrow(0, 0, 2, -1, head_width=0.1, head_length=0.1, linewidth=2)\n",
    "ax.arrow(0, 0, -1, 2, head_width=0.1, head_length=0.1, linewidth=2)\n",
    "ax.annotate('column 1', xy=(2, -1), xytext=(2.5, -1.5))\n",
    "ax.annotate('column 2', xy=(-1, 2), xytext=(-1.5, 2.5))\n",
    "ax.set(xlim=[-4, 4], ylim=[-4,4])\n",
    "ax.grid('on')"
   ]
  },
  {
   "cell_type": "markdown",
   "metadata": {},
   "source": [
    "The correct linear combination of these two vectors is the one that produces [0, 3].\n",
    "\n",
    "We already know from above that the correct solution is (1, 2), but let's plot it to see it. This means we'll take 1 of column 1 and 2 of column 2. We'll plot column 1, then add 2 column 2s onto the end of that vector. "
   ]
  },
  {
   "cell_type": "code",
   "execution_count": 228,
   "metadata": {
    "collapsed": false
   },
   "outputs": [
    {
     "data": {
      "image/png": "[encoded data removed]",
      "text/plain": [
       "<matplotlib.figure.Figure at 0x7fda9cd397b8>"
      ]
     },
     "metadata": {},
     "output_type": "display_data"
    }
   ],
   "source": [
    "fig, ax = plt.subplots()\n",
    "ax.arrow(0, 0, 2, -1, head_width=0.1, head_length=0.1, linewidth=2)\n",
    "ax.arrow(0, 0, -1, 2, head_width=0.1, head_length=0.1, linewidth=2)\n",
    "ax.arrow(0, 0, 0, 3, head_width=0.3, head_length=0.3, linewidth=2, color='r')\n",
    "ax.plot([2, 1], [-1, 1], linestyle='--', color='k', linewidth=2)\n",
    "ax.plot([1, 0], [1, 3], color='k', linewidth=2)\n",
    "ax.plot(0, 3, 'o', color='k')\n",
    "ax.annotate('column 1', xy=(2, -1), xytext=(2.5, -1.5))\n",
    "ax.annotate('column 2', xy=(-1, 2), xytext=(-1.5, 2.5))\n",
    "ax.annotate('solution', xy=(0, 3), xytext=(.5, 3.5))\n",
    "ax.set(xlim=[-4, 4], ylim=[-4,4])\n",
    "ax.grid('on')"
   ]
  },
  {
   "cell_type": "markdown",
   "metadata": {},
   "source": [
    "What are **all** the combinations that we could use and what are **all** the results we would get? In fact, we could get any right hand side (**b**) at all. There are all possible achievable **b**s.\n",
    "\n",
    "Moving on to 3 equations, 3 unknowns. Now working in three-dimensional space.\n",
    "\n",
    "\\begin{array}{rrrrcl}\n",
    "    2x & - & y   &   &    & = & 0 \\\\\n",
    "    -x & + & 2y  & - & z  & = & 1 \\\\\n",
    "       &   & -3y & + & 4z & = & 4\n",
    "\\end{array}\n",
    "\n",
    "Moving onto matrix form, using NumPy arrays."
   ]
  },
  {
   "cell_type": "code",
   "execution_count": 229,
   "metadata": {
    "collapsed": false
   },
   "outputs": [
    {
     "name": "stdout",
     "output_type": "stream",
     "text": [
      "[[ 2 -1  0]\n",
      " [-1  2 -1]\n",
      " [ 0 -3  4]]\n",
      "[[ 0]\n",
      " [-1]\n",
      " [ 4]]\n"
     ]
    }
   ],
   "source": [
    "A = np.array([[2, -1, 0],\n",
    "              [-1, 2, -1],\n",
    "              [0, -3, 4]])\n",
    "\n",
    "b = np.array([[0],\n",
    "              [-1],\n",
    "              [4]])\n",
    "\n",
    "print(A)\n",
    "print(b)"
   ]
  },
  {
   "cell_type": "markdown",
   "metadata": {},
   "source": [
    "All the points that solve an equation are a plane, not a line. Three dimensions and above are difficult to plot, so now we start to see the importance of matrices.\n",
    "\n",
    "Each row in a 3x3 system of equations produces a plane. Two of those planes meet in a line. All three of those planes meet in a point, and since it's a 3-D space, a point has three components.\n",
    "\n",
    "The row picture was easy with two equations. It's more difficult with three, and gets harder from there on out. No longer will we use the row picture to solve these things. Examining the column picture, we have:"
   ]
  },
  {
   "cell_type": "markdown",
   "metadata": {},
   "source": [
    "#### <center> $\\pmb{x} \\begin{bmatrix} 2 \\\\ -1 \\\\ 0 \\end{bmatrix}      + \\pmb{y} \\begin{bmatrix} -1 \\\\ 2 \\\\ -3 \\end{bmatrix}     + \\pmb{z} \\begin{bmatrix} 0 \\\\ -1 \\\\ 4 \\end{bmatrix}     = \\begin{bmatrix} 0 \\\\ -1 \\\\ 4 \\end{bmatrix}$ </center>"
   ]
  },
  {
   "cell_type": "markdown",
   "metadata": {},
   "source": [
    "Need to find a linear combination of the left hand side columns to produce the RHS. Strang draws these in three dimensions, but I'm not going to, since we'll be moving past visual representations anyway.\n",
    "\n",
    "And there's a problem -- one of the columns (column 3) is the same as the RHS. So we know we just want 1 of column 3 and no column 1 or column 2. \n",
    "\n",
    "<center>\n",
    "$\\pmb{b} = \\begin{bmatrix} 0 \\\\ 0 \\\\ 1 \\end{bmatrix}$\n",
    "</center>"
   ]
  },
  {
   "cell_type": "markdown",
   "metadata": {},
   "source": [
    "\n",
    "Next lecture, we'll discuss elimination, which is how to solve in all cases, no matter the number of dimensions. This is what most numerical software uses to solve systems of equations as well.\n",
    "\n",
    "What if the RHS looked like this?\n",
    "\n",
    "<center>\n",
    "$\\pmb{x} \\begin{bmatrix} 2 \\\\ -1 \\\\ 0 \\end{bmatrix} \n",
    "    + \\pmb{y} \\begin{bmatrix} -1 \\\\ 2 \\\\ -3 \\end{bmatrix}\n",
    "    + \\pmb{z} \\begin{bmatrix} 0 \\\\ -1 \\\\ 4 \\end{bmatrix}\n",
    "    = \\begin{bmatrix} 1 \\\\ 1 \\\\ -3 \\end{bmatrix}$\n",
    "</center>"
   ]
  },
  {
   "cell_type": "markdown",
   "metadata": {},
   "source": [
    "Now the RHS is just the sum of columns 1 and 2, so the solution is $\\pmb{b} = [1, 1, 0]$.\n",
    "\n",
    "The question then becomes, can you solve these equations for **any** RHS?\n",
    "\n",
    "Alternatively, can you solve $\\pmb{Ax} = \\pmb{b}$ for every $\\pmb{b}$? Is there a solution for every $\\pmb{b}$? If so, elimination will give a way to find it.\n",
    "\n",
    "Do the linear combinations of the columns fill the entire three-dimensional space?"
   ]
  },
  {
   "cell_type": "markdown",
   "metadata": {},
   "source": [
    "When you multiply a matrix ($\\pmb{A}$) by a vector ($\\pmb{x}$), you get a combination of the columns, the vector $\\pmb{b}$. Taking linear combinations of the columns to find b. \n",
    "\n",
    "For this 3x3 matrix $\\pmb{A}$, the answer is yes, you can find a solution for every $\\pmb{b}$. \n",
    "\n",
    "This matrix is a \"good\" matrix, aka a **non-singular** matrix, an **invertible** matrix. What would make this not the case?\n",
    "\n",
    "If all three columns lie in the same plane, their combinations will lie on the same plane. This is a problem. For instance, if column 3 is just the sum of column 1 and column 2. This would mean the matrix would be **non-invertible** or **singular**."
   ]
  },
  {
   "cell_type": "markdown",
   "metadata": {},
   "source": [
    "What if it was a 9x9 matrix? (Nine equations with nine unknowns). Each column would be a vector in nine-dimensional space and would be looking at linear combinations to find the RHS. We need to know if we can always do this in any given case.\n",
    "\n",
    "If the columns are chosen randomly, it would be non-singular and invertible. But if you chose the columns to be non-independent (aka dependent), then the matrix would be singular and non-invertible."
   ]
  },
  {
   "cell_type": "markdown",
   "metadata": {},
   "source": [
    "## Matrix Form"
   ]
  },
  {
   "cell_type": "markdown",
   "metadata": {},
   "source": [
    "$\\pmb{Ax} = \\pmb{b}$ is a multiplication problem. So how do you multiply a matrix by a vector?\n",
    "\n",
    "Two ways to do it. The first way is a column at a time (this is Strang's preferred method)."
   ]
  },
  {
   "cell_type": "code",
   "execution_count": 12,
   "metadata": {
    "collapsed": false
   },
   "outputs": [],
   "source": [
    "A = np.array(([2, 5],\n",
    "              [1, 3]))\n",
    "\n",
    "x = np.array([1, 2])"
   ]
  },
  {
   "cell_type": "markdown",
   "metadata": {},
   "source": [
    "This is saying to take 1 of column 1 and 2 of column 2 and add them together."
   ]
  },
  {
   "cell_type": "code",
   "execution_count": 213,
   "metadata": {
    "collapsed": false
   },
   "outputs": [
    {
     "data": {
      "text/plain": [
       "array([12,  7])"
      ]
     },
     "execution_count": 213,
     "metadata": {},
     "output_type": "execute_result"
    }
   ],
   "source": [
    "b = 1 * A[:, 0] + 2 * A[:, 1]\n",
    "b"
   ]
  },
  {
   "cell_type": "markdown",
   "metadata": {},
   "source": [
    "Could also do it a row at a time -- this is a **dot product**. This is multiplying the rows of $\\pmb{A}$ by the column $\\pmb{x}$ to produce $\\pmb{b}$. It's iterative and tedious to do by hand.\n",
    "\n",
    "Luckily NumPy has a method for this that you can call directly on array objects."
   ]
  },
  {
   "cell_type": "code",
   "execution_count": 14,
   "metadata": {
    "collapsed": false
   },
   "outputs": [
    {
     "data": {
      "text/plain": [
       "array([12,  7])"
      ]
     },
     "execution_count": 14,
     "metadata": {},
     "output_type": "execute_result"
    }
   ],
   "source": [
    "A.dot(x)"
   ]
  },
  {
   "cell_type": "markdown",
   "metadata": {},
   "source": [
    "We can also do this in SymPy by just multiplying the two matrices together."
   ]
  },
  {
   "cell_type": "code",
   "execution_count": 17,
   "metadata": {
    "collapsed": false
   },
   "outputs": [
    {
     "data": {
      "text/plain": [
       "Matrix([\n",
       "[12.0],\n",
       "[ 7.0]])"
      ]
     },
     "execution_count": 17,
     "metadata": {},
     "output_type": "execute_result"
    }
   ],
   "source": [
    "A_sym = sym.Matrix(A)\n",
    "x_sym = sym.Matrix(x)\n",
    "A_sym * x_sym"
   ]
  }
 ],
 "metadata": {
  "kernelspec": {
   "display_name": "Python 3",
   "language": "python",
   "name": "python3"
  },
  "language_info": {
   "codemirror_mode": {
    "name": "ipython",
    "version": 3
   },
   "file_extension": ".py",
   "mimetype": "text/x-python",
   "name": "python",
   "nbconvert_exporter": "python",
   "pygments_lexer": "ipython3",
   "version": "3.4.2"
  }
 },
 "nbformat": 4,
 "nbformat_minor": 0
}
