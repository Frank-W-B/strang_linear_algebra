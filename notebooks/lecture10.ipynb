{
 "metadata": {
  "name": "",
  "signature": "sha256:bb3ac01f049b4ddd0ffef0de8e0b75367632460597d427f91d58271b9ed10c8e"
 },
 "nbformat": 3,
 "nbformat_minor": 0,
 "worksheets": [
  {
   "cells": [
    {
     "cell_type": "code",
     "collapsed": false,
     "input": [
      "from __future__ import division, print_function\n",
      "\n",
      "from IPython.display import YouTubeVideo\n",
      "\n",
      "import numpy as np"
     ],
     "language": "python",
     "metadata": {},
     "outputs": [],
     "prompt_number": 1
    },
    {
     "cell_type": "code",
     "collapsed": false,
     "input": [
      "YouTubeVideo('nHlE7EgJFds')"
     ],
     "language": "python",
     "metadata": {},
     "outputs": [
      {
       "html": [
        "\n",
        "        <iframe\n",
        "            width=\"400\"\n",
        "            height=300\"\n",
        "            src=\"https://www.youtube.com/embed/nHlE7EgJFds\"\n",
        "            frameborder=\"0\"\n",
        "            allowfullscreen\n",
        "        ></iframe>\n",
        "        "
       ],
       "metadata": {},
       "output_type": "pyout",
       "prompt_number": 2,
       "text": [
        "<IPython.lib.display.YouTubeVideo at 0x7ff0dac47710>"
       ]
      }
     ],
     "prompt_number": 2
    },
    {
     "cell_type": "markdown",
     "metadata": {},
     "source": [
      "## Four fundamental subspaces (for a matrix A)\n",
      "\n",
      "So far we've only discussed two subspaces, the column space and the null space. There are two more to cover.\n",
      "\n",
      "1. Column space $C(\\mathbf{A})$.\n",
      "2. Null space $N(\\mathbf{A})$.\n",
      "3. Row space (all combinations of the rows -- the rows span the row space & may or may not be a basis for the row space. They are a basis when they are independent). Strang prefers to work with columns, though, so we can recast this as all combinations of the columns of $\\mathbf{A}^T$. In other notation, $C(\\mathbf{A}^T)$.\n",
      "4. Null space of $(\\mathbf{A}^T)$, $N(\\mathbf{A})$. This is usually called the *left* null space.\n",
      "\n",
      "When $\\mathbf{A}$ is $m \\times n$, where are these spaces? \n",
      "\n",
      "- $N(\\mathbf{A})$ is in $\\mathbb{R}^n$.\n",
      "- $C(\\mathbf{A})$ in in $\\mathbb{R}^m$.\n",
      "- $C(\\mathbf{A}^T)$ is in $\\mathbb{R}^n$.\n",
      "- $N(\\mathbf{A}^T)$ is in $\\mathbb{R}^m$.\n",
      "\n",
      "We are interested in a basis for each of these spaces. How do we construct a basis and what is their dimension? How do we do this systematically?\n",
      "\n",
      "### Column space\n",
      "\n",
      "Remember from lecture 9 that the dimension of $C(\\mathbf{A})$ is the *rank* of the matrix, $r$. We know that there are $r$ pivot columns, but we're interested in the original columns of $\\mathbf{A}$. Those pivot columns form a basis. \n",
      "\n",
      "### Row space\n",
      "\n",
      "The row space's dimension is *also* the rank $r$ and the basis is the pivot columns of $\\mathbf{A}^T$.\n",
      "\n",
      "### Null space\n",
      "\n",
      "The basis will be the 'special solutions' from when the matrix is in reduced row echelon form. They come from the free variables. There are $n - r$ of these. \n",
      "\n",
      "---\n",
      "\n",
      "So in the $\\mathbb{R}^n$ space where the row space and null space live, one subspace (the row space) is $r$-dimensional, and the other space (the null space) is $n - r$ dimensional and the two dimensions together give $n$. This just mirrors the fact that we have $n$ variables, $r$ of them are pivots and $n-r$ are free variables.\n",
      "\n",
      "### Row space\n",
      "\n",
      "How od we know what the basis for $\\mathbf{A}^T$ is?\n",
      "\n",
      "Let's walk through an example after elimination."
     ]
    },
    {
     "cell_type": "code",
     "collapsed": false,
     "input": [
      "A = np.array([[1, 2, 3, 1],\n",
      "              [1, 1, 2, 1],\n",
      "              [1, 2, 3, 1]])"
     ],
     "language": "python",
     "metadata": {},
     "outputs": [],
     "prompt_number": 3
    },
    {
     "cell_type": "code",
     "collapsed": false,
     "input": [
      "U = A.copy()\n",
      "U[1] = U[1] - U[0]\n",
      "U[2] = U[2] - U[0]\n",
      "U"
     ],
     "language": "python",
     "metadata": {},
     "outputs": [
      {
       "metadata": {},
       "output_type": "pyout",
       "prompt_number": 12,
       "text": [
        "array([[ 1,  2,  3,  1],\n",
        "       [ 0, -1, -1,  0],\n",
        "       [ 0,  0,  0,  0]])"
       ]
      }
     ],
     "prompt_number": 12
    },
    {
     "cell_type": "code",
     "collapsed": false,
     "input": [
      "R = U.copy()\n",
      "R[1] = -1 * R[1]\n",
      "R[0] = R[0] - (2 * R[1])\n",
      "R"
     ],
     "language": "python",
     "metadata": {},
     "outputs": [
      {
       "metadata": {},
       "output_type": "pyout",
       "prompt_number": 15,
       "text": [
        "array([[1, 0, 1, 1],\n",
        "       [0, 1, 1, 0],\n",
        "       [0, 0, 0, 0]])"
       ]
      }
     ],
     "prompt_number": 15
    },
    {
     "cell_type": "code",
     "collapsed": false,
     "input": [
      "np.array_equal(np.eye(2), R[0:2, 0:2])"
     ],
     "language": "python",
     "metadata": {},
     "outputs": [
      {
       "metadata": {},
       "output_type": "pyout",
       "prompt_number": 17,
       "text": [
        "True"
       ]
      }
     ],
     "prompt_number": 17
    },
    {
     "cell_type": "code",
     "collapsed": false,
     "input": [
      "F = R[0:2, 2:]\n",
      "F"
     ],
     "language": "python",
     "metadata": {},
     "outputs": [
      {
       "metadata": {},
       "output_type": "pyout",
       "prompt_number": 20,
       "text": [
        "array([[1, 1],\n",
        "       [1, 0]])"
       ]
      }
     ],
     "prompt_number": 20
    },
    {
     "cell_type": "markdown",
     "metadata": {},
     "source": [
      "Remember that $C(\\mathbf{R}) \\neq C(\\mathbf{A})$ -- the column space of the reduced row echelon form of $\\mathbf{A}$ does not equal the column space of $\\mat\n",
      "hbf{A}$. For instance $[1, 1, 1]$ is definitely in the column space of $\\mathbf{A}$ but not in the column space of $\\mathbf{R}$.\n",
      "\n",
      "The row operations preserved the row space. So the column spaces are different, but the row spaces are the same.\n",
      "\n",
      "Thus a basis for the row space of $\\mathbf{R}$ and therefore of $\\mathbf{A}$, is the first $r$ rows of $\\mathbf{R}$. The row space is *spanned* by the three rows, but these do not form a basis. \n",
      "\n",
      "We know that the row spaces are the same because all of the operations we performed were using *combinations* of the rows of $\\mathbf{A}$. The bases are also the same.\n",
      "\n",
      "### Null space of $\\mathbf{A}^T$\n",
      "\n",
      "The dimension is $m - r$, where $m$ is the number of columns in $\\mathbf{A}^T$.\n",
      "\n",
      "We know that $\\mathbf{A}^Ty = 0$. So we know that this is a matrix multiplied by a column to produce zero. Alternatively, $y^T\\mathbf{A}^{TT}$. That's why it's called the *left* null space. What is a basis for this space?\n",
      "\n",
      "Can we use the elimination work we did to produce $\\mathbf{R}$ somehow? Yes. The steps to get from $\\mathbf{A}$ to $\\mathbf{R}$ tell us something. What is the matrix that produces this transformation?\n",
      "\n",
      "**Gauss-Jordan**! Remember we just tack on the identity matrix to $\\mathbf{A}$, which is $m \\times n$ with an $m \\times m$ matrix tacked on. We now need RREF of this new matrix $\\mathbf{AI}$.\n",
      "\n",
      "We're going to get some new matrix $\\mathbf{R_{m\\times n}E_{m\\times m}}$.\n",
      "\n",
      "In fact, $\\mathbf{EA} = \\mathbf{R}$.\n",
      "\n",
      "Remember earlier, when $\\mathbf{A}$ was square and invertible, $\\mathbf{R} = \\mathbf{I}$ and $\\mathbf{E}$ was $\\mathbf{A}^{-1}$.\n",
      "\n",
      "We're not dealing with square matrices anymore, so we don't have inverses, but there is still an elimination matrix $\\mathbf{E}$ here."
     ]
    },
    {
     "cell_type": "code",
     "collapsed": false,
     "input": [
      "E = np.array([[-1, 2, 0],\n",
      "              [1, -1, 0],\n",
      "              [-1, 0, 1]])\n",
      "\n",
      "print(E.dot(A))\n",
      "np.array_equal(E.dot(A), R)"
     ],
     "language": "python",
     "metadata": {},
     "outputs": [
      {
       "output_type": "stream",
       "stream": "stdout",
       "text": [
        "[[1 0 1 1]\n",
        " [0 1 1 0]\n",
        " [0 0 0 0]]\n"
       ]
      },
      {
       "metadata": {},
       "output_type": "pyout",
       "prompt_number": 22,
       "text": [
        "True"
       ]
      }
     ],
     "prompt_number": 22
    },
    {
     "cell_type": "markdown",
     "metadata": {},
     "source": [
      "We're doing all this so we can figure out the left null space. Remember it has dimension $m - r$ or $3 - 2 = 1$. There is only one combination of the three rows that produces 0. The basis for the left null space only has one vector.\n",
      "\n",
      "It's in the last row of $\\mathbf{E}$! Take a negative of the first row and one of the third row and you get all zeros.\n",
      "\n",
      "We did have to find $\\mathbf{E}$ to find this.\n",
      "\n",
      "## A new vector space! \n",
      "\n",
      "Example: all $3 \\times 3$ matrices -- the matrices are the vectors in the space. Every matrix is a vector because they 'obey the rules'. You can add them. You can multiply them by scalars. And you can take combinations of them. Matrix multiplication isn't relevant for the time being.\n",
      "\n",
      "What's a subspace of this matrix space $M$? \n",
      "\n",
      "- Upper triangular matrices? \n",
      "- Symmetric matrices\n",
      "- The intersection of these two -- diagonal matrices ($D$).\n",
      "\n",
      "The dimension of $D$ is 3."
     ]
    }
   ],
   "metadata": {}
  }
 ]
}