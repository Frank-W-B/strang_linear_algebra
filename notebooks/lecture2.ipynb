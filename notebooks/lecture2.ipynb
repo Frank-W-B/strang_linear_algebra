{
 "cells": [
  {
   "cell_type": "code",
   "execution_count": 6,
   "metadata": {
    "collapsed": false
   },
   "outputs": [],
   "source": [
    "from __future__ import division, print_function\n",
    "\n",
    "from IPython.display import YouTubeVideo\n",
    "\n",
    "import numpy as np"
   ]
  },
  {
   "cell_type": "code",
   "execution_count": 2,
   "metadata": {
    "collapsed": false
   },
   "outputs": [
    {
     "data": {
      "text/html": [
       "\n",
       "        <iframe\n",
       "            width=\"400\"\n",
       "            height=300\"\n",
       "            src=\"https://www.youtube.com/embed/QVKj3LADCnA\"\n",
       "            frameborder=\"0\"\n",
       "            allowfullscreen\n",
       "        ></iframe>\n",
       "        "
      ],
      "text/plain": [
       "<IPython.lib.display.YouTubeVideo at 0x7f061d591cf8>"
      ]
     },
     "execution_count": 2,
     "metadata": {},
     "output_type": "execute_result"
    }
   ],
   "source": [
    "YouTubeVideo('QVKj3LADCnA')"
   ]
  },
  {
   "cell_type": "markdown",
   "metadata": {},
   "source": [
    "Going to be solving systems of equations using **elimination** and back-substitution. If a matrix is \"good\" (more on that), we'll get an efficient answer. We'll need to know when it fails as well. We won't be using determinants.\n",
    "\n",
    "Gauss came up with elimination, but it's a \"natural\" idea. "
   ]
  },
  {
   "cell_type": "markdown",
   "metadata": {},
   "source": [
    "\\begin{array}{rcl}\n",
    "    x + 2y + z & = & 2 \\\\\n",
    "    3x + 8y + z & = & 12 \\\\\n",
    "    4y + z & = & 2\n",
    "\\end{array}"
   ]
  },
  {
   "cell_type": "markdown",
   "metadata": {},
   "source": [
    "Once again, a formula for solving this system of equations is: $\\pmb{Ax} = \\pmb{b}$"
   ]
  },
  {
   "cell_type": "code",
   "execution_count": 7,
   "metadata": {
    "collapsed": false
   },
   "outputs": [],
   "source": [
    "A = np.array(([1, 2, 1],\n",
    "              [3, 8, 1],\n",
    "              [0, 4, 1 ]))\n",
    "\n",
    "b = np.array([[2],\n",
    "              [12], \n",
    "              [2]])"
   ]
  },
  {
   "cell_type": "markdown",
   "metadata": {},
   "source": [
    "Treat the first equation as \"OK.\" We're going to multiply the first equation by some multiplier and subtract it from the second equation. We want to eliminate the **x** part of equation 2. We need to multiply equation 1 by 3 and subtract it from equation 2.\n",
    "\n",
    "The **x** position in the first equation is called the *first pivot* and that row is called the *pivot row*."
   ]
  },
  {
   "cell_type": "code",
   "execution_count": 11,
   "metadata": {
    "collapsed": false
   },
   "outputs": [
    {
     "data": {
      "text/plain": [
       "array([[ 1,  2,  1],\n",
       "       [ 0,  2, -2],\n",
       "       [ 0,  4,  1]])"
      ]
     },
     "execution_count": 11,
     "metadata": {},
     "output_type": "execute_result"
    }
   ],
   "source": [
    "pivot = 0\n",
    "multiplier = 3\n",
    "\n",
    "A_new = A.copy() # For now, let's not destroy the original matrix.\n",
    "A_new[1] = A_new[1] - (A_new[pivot] * multiplier)\n",
    "A_new"
   ]
  },
  {
   "cell_type": "code",
   "execution_count": 8,
   "metadata": {
    "collapsed": false
   },
   "outputs": [
    {
     "data": {
      "text/plain": [
       "array([[1, 2, 1],\n",
       "       [3, 8, 1],\n",
       "       [0, 4, 1]])"
      ]
     },
     "execution_count": 8,
     "metadata": {},
     "output_type": "execute_result"
    }
   ],
   "source": [
    "A # Check that original matrix is intact"
   ]
  },
  {
   "cell_type": "markdown",
   "metadata": {},
   "source": [
    "Next step would be to eliminate the **x** in the third row as well, but there is no **x** in the third equation. This means that the multiplier for this step is actually 0. This requires no work, but is actually a step.\n",
    "\n",
    "Now we consider the *second pivot*, which is in the **y** position of equation 2. In normal matrix form, this would be position [2, 2], in NumPy it's position [1, 1]."
   ]
  },
  {
   "cell_type": "code",
   "execution_count": 14,
   "metadata": {
    "collapsed": false
   },
   "outputs": [
    {
     "data": {
      "text/plain": [
       "array([[ 1,  2,  1],\n",
       "       [ 0,  2, -2],\n",
       "       [ 0,  0,  5]])"
      ]
     },
     "execution_count": 14,
     "metadata": {},
     "output_type": "execute_result"
    }
   ],
   "source": [
    "pivot = 1\n",
    "multiplier = 2\n",
    "A_new[2] = A_new[2] - (A_new[pivot] * multiplier)\n",
    "A_new"
   ]
  },
  {
   "cell_type": "markdown",
   "metadata": {},
   "source": [
    "The third pivot is in the **z** position in equation 3, position [2, 2].\n",
    "\n",
    "This matrix now has all zeros below the *diagonal*, which makes it an *upper triangular matrix*, which we'll call **U**. The entire point of elimination was to transform **A** into **U**. \n",
    "\n",
    "Strang says this is one of the most fundamental operations in numerical computing.\n",
    "\n",
    "Some caveats: pivots cannot be zero. This was a good matrix, didn't have to switch rows, etc."
   ]
  },
  {
   "cell_type": "code",
   "execution_count": 15,
   "metadata": {
    "collapsed": false
   },
   "outputs": [
    {
     "data": {
      "text/plain": [
       "array([[ 1,  2,  1],\n",
       "       [ 0,  2, -2],\n",
       "       [ 0,  0,  5]])"
      ]
     },
     "execution_count": 15,
     "metadata": {},
     "output_type": "execute_result"
    }
   ],
   "source": [
    "U = A_new\n",
    "U"
   ]
  },
  {
   "cell_type": "markdown",
   "metadata": {},
   "source": [
    "The *determinant* of the matrix is found by multiplying the pivots of **U**. Strang is fiercely anti-determinant."
   ]
  },
  {
   "cell_type": "code",
   "execution_count": 23,
   "metadata": {
    "collapsed": false
   },
   "outputs": [
    {
     "name": "stdout",
     "output_type": "stream",
     "text": [
      "10\n",
      "10.0\n"
     ]
    }
   ],
   "source": [
    "print(np.prod(A_new.diagonal())) # Doing the math\n",
    "print(np.linalg.det(A_new)) # Using the NumPy linear algebra function"
   ]
  },
  {
   "cell_type": "markdown",
   "metadata": {},
   "source": [
    "What if elimination fails? What if the second pivot was a zero instead of a 1 in the very first position? We'd have to swap rows around until that first pivot was non-zero.\n",
    "\n",
    "What if the second pivot was a zero instead of a two? We would have had that if the original A[1, 1] was a 6 instead of an 8. \n",
    "\n",
    "Can get out of trouble if there's a non-zero below the zero. We can exchange lower rows.\n",
    "\n",
    "What if the final pivot, which started as a 1 (and became a 5), and became a 0 with no place to exchange? -4 would have produced this.\n",
    "\n",
    "This would have produced a 0 in the third pivot, and the matrix would not have been invertible."
   ]
  },
  {
   "cell_type": "markdown",
   "metadata": {},
   "source": [
    "# Backsubstitution"
   ]
  },
  {
   "cell_type": "markdown",
   "metadata": {},
   "source": [
    "Need to bring the RHS of the equations back into play now. Looking back at our original matrix **A**, it would look something like this:"
   ]
  },
  {
   "cell_type": "markdown",
   "metadata": {},
   "source": [
    "<center>\n",
    "$\n",
    "\\pmb{A}_{aug} = \n",
    "\\left[\n",
    "\\begin{array}{ccc|c}\n",
    "1 & 2 & 1 & 2 \\\\\n",
    "3 & 8 & 1 & 12 \\\\\n",
    "0 & 4 & 1 & 2\n",
    "\\end{array}\n",
    "\\right]$\n",
    "</center>"
   ]
  },
  {
   "cell_type": "markdown",
   "metadata": {},
   "source": [
    "This is called an *augmented matrix*. We can do the same elimination steps as above, this time incorporating the RHS."
   ]
  },
  {
   "cell_type": "code",
   "execution_count": 29,
   "metadata": {
    "collapsed": false
   },
   "outputs": [
    {
     "data": {
      "text/plain": [
       "array([[  1,   2,   1,   2],\n",
       "       [  0,   2,  -2,   6],\n",
       "       [  0,   0,   5, -10]])"
      ]
     },
     "execution_count": 29,
     "metadata": {},
     "output_type": "execute_result"
    }
   ],
   "source": [
    "A_aug = np.c_[A, b]\n",
    "\n",
    "pivot = 0\n",
    "multiplier = 3\n",
    "\n",
    "A_aug_new = A_aug.copy() # For now, let's not destroy the original matrix.\n",
    "A_aug_new[1] = A_aug_new[1] - (A_aug_new[pivot] * multiplier)\n",
    "\n",
    "pivot = 1\n",
    "multiplier = 2\n",
    "A_aug_new[2] = A_aug_new[2] - (A_aug_new[pivot] * multiplier)\n",
    "\n",
    "A_aug_new"
   ]
  },
  {
   "cell_type": "markdown",
   "metadata": {},
   "source": [
    "So we now have reproduced the upper triangular matrix **U** and have a new RHS, which we'll call the vector **c**.\n",
    "\n",
    "Instead of $\\pmb{Ax} = \\pmb{b}$, we have $\\pmb{Ux} = \\pmb{c}$.\n",
    "\n",
    "Time for backsubstitution now. We can see that the correct value for $z$ is -2. We can then plug $z$ into equation 2, so $y = 1$, making $x = 2$. You solve the system in reverse order (moving up the matrix) because it's triangular."
   ]
  },
  {
   "cell_type": "markdown",
   "metadata": {},
   "source": [
    "# Matrices\n",
    "\n",
    "We want to recast these operations in matrix form. We'll use *elimination matrices* to do this."
   ]
  },
  {
   "cell_type": "code",
   "execution_count": 30,
   "metadata": {
    "collapsed": false
   },
   "outputs": [
    {
     "data": {
      "text/plain": [
       "array([[1, 2, 1],\n",
       "       [3, 8, 1],\n",
       "       [0, 4, 1]])"
      ]
     },
     "execution_count": 30,
     "metadata": {},
     "output_type": "execute_result"
    }
   ],
   "source": [
    "A"
   ]
  },
  {
   "cell_type": "markdown",
   "metadata": {},
   "source": [
    "If we multiply a matrix by a vector (on the right hand side), we get a vector.\n",
    "\n",
    "A 3x3 matrix multiplied by a 3x1 vector, you get a 3x1 column vector.\n",
    "\n",
    "A matrix * a column is a column. A row * matrix is a row. Instead of a linear combination of columns, you have linear combinations of rows. \n",
    "\n",
    "A 1x3 row * a 3x3 matrix produces a 1x3 row vector.\n",
    "\n",
    "In the beginning of the course, we're dealing with rows primarily (rows are equations). \n",
    "\n",
    "We need to find a matrix that will leave the first row of our matrix unchanged, leaves the last row unchanged, and subtracts three times row 1 from row 2.\n",
    "\n",
    "How to figure this out? For starters, what would we do if we wanted to do nothing to the original? We could use the *identity matrix*, which is just a square matrix with ones on the diagonal and zeros everywhere else."
   ]
  },
  {
   "cell_type": "code",
   "execution_count": 37,
   "metadata": {
    "collapsed": false
   },
   "outputs": [
    {
     "data": {
      "text/plain": [
       "array([[ 1.,  0.,  0.],\n",
       "       [ 0.,  1.,  0.],\n",
       "       [ 0.,  0.,  1.]])"
      ]
     },
     "execution_count": 37,
     "metadata": {},
     "output_type": "execute_result"
    }
   ],
   "source": [
    "# NumPy function np.eye() with the number of ones desired \n",
    "# (or the number or rows or columns, these are all equivalent)\n",
    "np.eye(3) "
   ]
  },
  {
   "cell_type": "code",
   "execution_count": 38,
   "metadata": {
    "collapsed": false
   },
   "outputs": [
    {
     "data": {
      "text/plain": [
       "array([[ 1,  2,  1],\n",
       "       [ 0,  2, -2],\n",
       "       [ 0,  4,  1]])"
      ]
     },
     "execution_count": 38,
     "metadata": {},
     "output_type": "execute_result"
    }
   ],
   "source": [
    "# We'll call this elimination matrix E\n",
    "\n",
    "E    = np.array([[1, 0, 0],\n",
    "                 [-3, 1, 0],\n",
    "                 [0, 0, 1]])\n",
    "\n",
    "A_new = E.dot(A) # Take the dot product of the elimination matrix and A\n",
    "A_new"
   ]
  },
  {
   "cell_type": "code",
   "execution_count": 39,
   "metadata": {
    "collapsed": false
   },
   "outputs": [
    {
     "data": {
      "text/plain": [
       "array([[ 1,  2,  1],\n",
       "       [ 0,  2, -2],\n",
       "       [ 0,  0,  5]])"
      ]
     },
     "execution_count": 39,
     "metadata": {},
     "output_type": "execute_result"
    }
   ],
   "source": [
    "# Need another matrix for next step of elimination\n",
    "# This will multiply the second row and subtract it from row 3\n",
    "\n",
    "E = np.array([[1, 0, 0],\n",
    "              [0, 1, 0],\n",
    "              [0, -2, 1]])\n",
    "\n",
    "A_new = E.dot(A_new)\n",
    "A_new"
   ]
  },
  {
   "cell_type": "markdown",
   "metadata": {},
   "source": [
    "Now we just need a matrix that combines all of these steps into a single matrix. For NumPy purposes, Strang's labels for these matrices are confusing (he calls them $\\pmb{E}_{32}$ and $\\pmb{E}_{21}$ for elimination matrices for the [3, 2] and [2,1] positions. Due to NumPy's zero-indexing, this could get us in trouble. I'll rename them to match NumPy conventions. We just need to subtract one from all of the indices.\n",
    "\n",
    "To produce **U**, all we need to do is chain together these operations.\n",
    "\n",
    "$\\pmb{U} = \\pmb{E}_{21} \\times (\\pmb{E}_{10} \\times \\pmb{A})$\n",
    "\n",
    "Importantly, matrix multiplication is [associative](http://en.wikipedia.org/wiki/Associative_property). We can change the order of the parentheses, but we can't change the order of the matrices. So we could recast this as:\n",
    "\n",
    "$\\pmb{U} = (\\pmb{E}_{21} \\times \\pmb{E}_{10}) \\times \\pmb{A}$"
   ]
  },
  {
   "cell_type": "markdown",
   "metadata": {},
   "source": [
    "What if some of the preconditions for all of this weren't met (e.g., zero in a pivot position, etc.) What if we needed to exchange rows?\n",
    "\n",
    "We can use a *permutation matrix* to exchange rows.\n",
    "\n",
    "Example: exchanging rows 1 & 2.\n",
    "\n",
    "Want to find the following, and basically that means we need a matrix that produces 0 of the first row, 1 of the second row, and then 1 of the first row and 0 of the second row.\n",
    "\n",
    "<center>\n",
    "$\n",
    "\\begin{bmatrix} \n",
    "? \\; ? \\\\\n",
    "? \\; ? \n",
    "\\end{bmatrix}\n",
    "\\; \\times\n",
    "\\begin{bmatrix} \n",
    "a \\; b \\\\\n",
    "c \\; d \n",
    "\\end{bmatrix}\n",
    "= \n",
    "\\begin{bmatrix} \n",
    "c \\; d \\\\\n",
    "b \\; a \n",
    "\\end{bmatrix}\n",
    "$\n",
    "</center>"
   ]
  },
  {
   "cell_type": "markdown",
   "metadata": {},
   "source": [
    "The permutation matrix that will do this is:"
   ]
  },
  {
   "cell_type": "code",
   "execution_count": 42,
   "metadata": {
    "collapsed": false
   },
   "outputs": [
    {
     "data": {
      "text/plain": [
       "array([[0, 1],\n",
       "       [1, 0]])"
      ]
     },
     "execution_count": 42,
     "metadata": {},
     "output_type": "execute_result"
    }
   ],
   "source": [
    "P = np.array([[0, 1],\n",
    "              [1, 0]])\n",
    "\n",
    "P"
   ]
  },
  {
   "cell_type": "markdown",
   "metadata": {},
   "source": [
    "If you wanted to do this on a column basis instead of a row basis, the permutation matrix needs to go on the right of the matrix instead of the left. "
   ]
  },
  {
   "cell_type": "markdown",
   "metadata": {},
   "source": [
    "<center>\n",
    "$\n",
    "\\begin{bmatrix} \n",
    "a \\; b \\\\\n",
    "c \\; d \n",
    "\\end{bmatrix}\n",
    "\\; \\times\n",
    "\\begin{bmatrix} \n",
    "0 \\; 1 \\\\\n",
    "1 \\; 0 \n",
    "\\end{bmatrix}\n",
    "= \n",
    "\\begin{bmatrix} \n",
    "b \\; a \\\\\n",
    "d \\; c \n",
    "\\end{bmatrix}\n",
    "$\n",
    "</center>"
   ]
  },
  {
   "cell_type": "markdown",
   "metadata": {},
   "source": [
    "We can't change the order of the matrices in these operations. Matrix multiplication is associative, but it is **not** generally commutative. That is to say $\\pmb{AB} \\neq \\pmb{BA}$. (As Strang says, you have to keep them in their \"Gauss-given order.\"\n",
    "\n",
    "There's actually a better way to do all this. Instead of going from **A** to **U**, we can think about how to get back to **A** from **U**. We can *invert* the steps. To do this, we need to find the inverse matrix. We want to find the matrix that produces the identity -- a matrix multiplyied by its inverse will produce the identity.\n",
    "\n",
    "So now instead of subtracting rows, we're going to add back rows. Let's take the following matrix:"
   ]
  },
  {
   "cell_type": "code",
   "execution_count": 14,
   "metadata": {
    "collapsed": false
   },
   "outputs": [],
   "source": [
    "A = np.array([[1, 0, 0],\n",
    "              [-3, 1, 0],\n",
    "              [0, 0, 1]])"
   ]
  },
  {
   "cell_type": "markdown",
   "metadata": {},
   "source": [
    "We want to find the matrix that, when we multiply A by that matrix, we get the identity matrix. So we need to take 3 times row 1 and add it to row 2 (that will give us [0, 1, 0] on the second row)."
   ]
  },
  {
   "cell_type": "code",
   "execution_count": 49,
   "metadata": {
    "collapsed": false
   },
   "outputs": [
    {
     "data": {
      "text/plain": [
       "True"
      ]
     },
     "execution_count": 49,
     "metadata": {},
     "output_type": "execute_result"
    }
   ],
   "source": [
    "A_new = np.array([[1, 0, 0], \n",
    "                  [3, 1, 0], \n",
    "                  [0, 0, 1]])\n",
    "\n",
    "np.array_equal(A.dot(A_new), np.eye(3))"
   ]
  },
  {
   "cell_type": "markdown",
   "metadata": {},
   "source": [
    "The notation for an inverted matrix is $\\pmb{E}^{-1}$."
   ]
  },
  {
   "cell_type": "code",
   "execution_count": null,
   "metadata": {
    "collapsed": false
   },
   "outputs": [],
   "source": []
  }
 ],
 "metadata": {
  "kernelspec": {
   "display_name": "Python 3",
   "language": "python",
   "name": "python3"
  },
  "language_info": {
   "codemirror_mode": {
    "name": "ipython",
    "version": 3
   },
   "file_extension": ".py",
   "mimetype": "text/x-python",
   "name": "python",
   "nbconvert_exporter": "python",
   "pygments_lexer": "ipython3",
   "version": "3.4.2"
  }
 },
 "nbformat": 4,
 "nbformat_minor": 0
}
