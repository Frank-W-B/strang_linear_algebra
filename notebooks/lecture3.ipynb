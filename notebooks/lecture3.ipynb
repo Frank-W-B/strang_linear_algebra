{
 "metadata": {
  "name": "",
  "signature": "sha256:2c0713eba53e5d66c5ab97768e23cdc0831cb43b853c6ea11596e5af3f6d2c52"
 },
 "nbformat": 3,
 "nbformat_minor": 0,
 "worksheets": [
  {
   "cells": [
    {
     "cell_type": "code",
     "collapsed": false,
     "input": [
      "from __future__ import division, print_function\n",
      "\n",
      "from IPython.display import YouTubeVideo\n",
      "\n",
      "import numpy as np"
     ],
     "language": "python",
     "metadata": {},
     "outputs": [],
     "prompt_number": 1
    },
    {
     "cell_type": "code",
     "collapsed": false,
     "input": [
      "YouTubeVideo('FX4C-JpTFgY')"
     ],
     "language": "python",
     "metadata": {},
     "outputs": [
      {
       "html": [
        "\n",
        "        <iframe\n",
        "            width=\"400\"\n",
        "            height=300\"\n",
        "            src=\"https://www.youtube.com/embed/FX4C-JpTFgY\"\n",
        "            frameborder=\"0\"\n",
        "            allowfullscreen\n",
        "        ></iframe>\n",
        "        "
       ],
       "metadata": {},
       "output_type": "pyout",
       "prompt_number": 2,
       "text": [
        "<IPython.lib.display.YouTubeVideo at 0x7f83de7a8128>"
       ]
      }
     ],
     "prompt_number": 2
    },
    {
     "cell_type": "markdown",
     "metadata": {},
     "source": [
      "Time for the rules for matrix multiplication (four different ways)\n",
      "\n",
      "## First way -- rows times columns\n",
      "\n",
      "Say we have two matrices **A** and **B** that we'll multiply together to get **C**. Where do the elements of **C** come from?\n",
      "\n",
      "For example, where does $\\pmb{C}_{3,4}$ (the third row, fourth column) come from? It's the 3rd row of **A** and the fourth column of **B**. \n",
      "\n",
      "$\\pmb{C}_{3,4} = \\pmb{A}_{3,\\;} \\cdot  \\pmb{B}_{\\;, 4}$ \n",
      "\n",
      "Writing it out in full: \n",
      "\n",
      "$\\pmb{C}_{3,4} =  \\pmb{a}_{3,1}\\pmb{b}_{1, 4} + \\pmb{a}_{3,2}\\pmb{b}_{2,4} + \\pmb{a}_{3,3}\\pmb{b}_{3,4} + \\pmb{a}_{3,4}\\pmb{b}_{4,4}$\n",
      "\n",
      "Or as a summation formula:\n",
      "\n",
      "$\\sum_{k=1}^{n} \\pmb{a}_{3, k} \\pmb{b}_{k, 4}$\n",
      "\n",
      "When are matrices able to multiplied? They must have specific shapes if they're not square. If square, must be the same size. If rectangular, cannot be the same size.\n",
      "\n",
      "If **A** is an $m \\times n$ matrix (m rows by n columns), then **B** must have $n$ rows. If **B** is $n \\times p$ then ***AB*** is an $m \\times p$ matrix. The number of columns of **A** must be equal to the number of rows of **B**. The outcome matrix will have the same number of rows as **A** and the same number of columns of **B**."
     ]
    },
    {
     "cell_type": "markdown",
     "metadata": {},
     "source": [
      "## Second way -- using columns\n",
      "\n",
      "These are matrices multiplied by vectors. The first column of **C** is determined by **A** and the first column of **B**. Nothing from **B** except for the first column has any effect on the first column of **C**. The second column of **C** is determined by **A** and the second column of **B**. And o on.\n",
      "\n",
      "The columns of C are just combinations of columns of **A**. Thinking about this in terms of shape, the columns of **A** have shape $n$, as do the columns of **C**. **B** is just telling us how many of column **A** to take.\n",
      "\n",
      "## Third way -- using rows\n",
      "\n",
      "The rows of **A** are multiplied by all of the rows of **B** to produce **C**. The rows of **C** are combinations of the rows of **B** and **A** tells us how to combine them.\n",
      "\n",
      "## Fourth way -- columns times rows\n",
      "\n",
      "First way was rows times columns. That produced scalars that we could sum. What happens when we multiply columns times rows? What's the produced shape? A *matrix*. Remembering that **A** is $m \\times n$ and **B** is $\\n \\times p$, each column of **A** is $m \\times 1$ and each row of **B** is $1 \\times p$, which produces an $m \\times p$ matrix.\n",
      "\n",
      "col = np.array([[2],"
     ]
    },
    {
     "cell_type": "code",
     "collapsed": false,
     "input": [
      "col = np.array([[2],\n",
      "                [3],\n",
      "                [4]])\n",
      "\n",
      "row = np.array([[1, 6]])\n",
      "\n",
      "col.dot(row)"
     ],
     "language": "python",
     "metadata": {},
     "outputs": [
      {
       "metadata": {},
       "output_type": "pyout",
       "prompt_number": 23,
       "text": [
        "array([[ 2, 12],\n",
        "       [ 3, 18],\n",
        "       [ 4, 24]])"
       ]
      }
     ],
     "prompt_number": 23
    },
    {
     "cell_type": "markdown",
     "metadata": {},
     "source": [
      "This is a special matrix - the columns are multiples of the column vector, and the rows are multiples of the row vector.\n",
      "\n",
      "So, the fourth way can be represented as:\n",
      "\n",
      "$\\pmb{AB} =$ sum of columns of $\\pmb{A} \\times$ rows of $\\pmb{B}$\n",
      "\n",
      "One of the reasons this is a special matrix is that all of the rows lie on the same line. Later on Strang will say that the row space (all the combinations of the rows) is the line through the vector [1, 6], and the column space is a line lying on the vector [2, 3, 4]."
     ]
    },
    {
     "cell_type": "markdown",
     "metadata": {},
     "source": [
      "## Block multiplication\n",
      "\n",
      "You can also divide any matrix into blocks and do the multiplication by blocks, which ends up being very useful for large matrices and efficiency.\n",
      "\n",
      "If **A** and **B** are square matrices, chop each into four square blocks called $\\pmb{A}_1, \\pmb{A}_2, \\pmb{A}_3, and \\pmb{A}_4$. **B** follows the same notation. So, if **A** is a $20 \\times 20$ matrix, each of the blocks is $10 \\times 10$.\n",
      "\n",
      "$\n",
      "\\begin{bmatrix}\n",
      "\\pmb{A}_1 \\pmb{A}_2 \\\\\n",
      "\\pmb{A}_3 \\pmb{A}_4\n",
      "\\end{bmatrix}\n",
      "\\times\n",
      "\\begin{bmatrix}\n",
      "\\pmb{B}_1 \\pmb{B}_2 \\\\\n",
      "\\pmb{B}_3 \\pmb{B}_4\n",
      "\\end{bmatrix}\n",
      "=\n",
      "\\begin{bmatrix}\n",
      "\\pmb{C}_1 \\pmb{C}_2 \\\\\n",
      "\\pmb{C}_3 \\pmb{C}_4\n",
      "\\end{bmatrix}\n",
      "$\n",
      "\n",
      "The resulting product matrix **C** can then be found with these blocks. The upper left quadrant of **C**, called $\\pmb{C}_1$ is just $\\pmb{A}_1 \\times \\pmb{B}_1 + \\pmb{A}_2 \\times \\pmb{B}_3$."
     ]
    },
    {
     "cell_type": "markdown",
     "metadata": {},
     "source": [
      "## Inverses\n",
      "\n",
      "First for square matrices. Not all matrices have inverses. But we need a way of knowing if a matrix is invertible or not.\n",
      "\n",
      "If $\\pmb{A}^{-1}$ exists, then $\\pmb{A}^{-1}\\pmb{A} = \\pmb{I}$ where $\\pmb{I}$ is the identity matrix. This is like a \"left inverse\", where the inverse sits to the left of the inverse, but an inverse could also sit on the right. So $\\pmb{A}\\pmb{A}^{-1} = \\pmb{I}$. For square matrices, an inverse can be a left or a right inverse.\n",
      "\n",
      "For rectangular matrices, this isn't true.\n",
      "\n",
      "Matrices with inverses that exist are called invertible or non-singular. Let's look at a singular, non-invertible example."
     ]
    },
    {
     "cell_type": "code",
     "collapsed": false,
     "input": [
      "A = np.array([[1, 3],\n",
      "              [2, 6]])\n",
      "\n",
      "# Aside, the determinant of this matrix is 0. \n",
      "# np.linalg.det(A)\n",
      "# 0.0"
     ],
     "language": "python",
     "metadata": {},
     "outputs": [],
     "prompt_number": 24
    },
    {
     "cell_type": "markdown",
     "metadata": {},
     "source": [
      "If we multiply **A** by another matrix, the product has columns that are combinations of the columns of **A**. Is it possible to get to the identity matrix from **A**? \n",
      "\n",
      "One rule is that we cannot produce columns of the identity matrix as a combination of the columns of **A**. In this case, both of the columns of **A** lie on the same line. This is problematic.\n",
      "\n",
      "A square matrix has no inverse if you can find a non-zero vector $\\pmb{x}$ such that $\\pmb{Ax} = 0$. We say a non-zero vector because the vector [0, 0] will always produce that in this case.\n",
      "\n",
      "For **A** above, we could do this with the vector [3, -1]."
     ]
    },
    {
     "cell_type": "code",
     "collapsed": false,
     "input": [
      "A * np.array([3, -1])"
     ],
     "language": "python",
     "metadata": {},
     "outputs": [
      {
       "metadata": {},
       "output_type": "pyout",
       "prompt_number": 25,
       "text": [
        "array([[ 3, -3],\n",
        "       [ 6, -6]])"
       ]
      }
     ],
     "prompt_number": 25
    },
    {
     "cell_type": "markdown",
     "metadata": {},
     "source": [
      "Now, time to invert some matrices that are invertible."
     ]
    },
    {
     "cell_type": "code",
     "collapsed": false,
     "input": [
      "A = np.array([[1, 3],\n",
      "              [2, 7]])"
     ],
     "language": "python",
     "metadata": {},
     "outputs": [],
     "prompt_number": 26
    },
    {
     "cell_type": "markdown",
     "metadata": {},
     "source": [
      "How to compute $\\pmb{A}^{-1}$? Want to find the following:\n",
      "\n",
      "$\n",
      "\\begin{bmatrix}\n",
      "1 \\; 3 \\\\\n",
      "2 \\; 7\n",
      "\\end{bmatrix}\n",
      "\\begin{bmatrix}\n",
      "a \\;  b \\\\\n",
      "c \\;  d\n",
      "\\end{bmatrix}\n",
      "=\n",
      "\\begin{bmatrix}\n",
      "1 \\;  0 \\\\\n",
      "0 \\;  1\n",
      "\\end{bmatrix}\n",
      "$\n",
      "\n",
      "First column of the identity satisfies $\\pmb{A}$ times the first column of the inverse and the second column of the identity satifies $\\pmb{A}$ times the second column of the inverse. It's like two different systems. One when the RHS is [1, 0] and one when it's [0, 1].\n",
      "\n",
      "$\\pmb{A}$ times column $j$ of $\\pmb{A}^{-1}$ is the $j^{th}$ column of the identity.\n",
      "\n",
      "We can use *Gauss-Jordan* now. Gauss-Jordan allows us to solve two equations at once.\n",
      "\n",
      "We're going to create an augmented matrix that has both of the right hand sides."
     ]
    },
    {
     "cell_type": "code",
     "collapsed": false,
     "input": [
      "A_aug = np.array([[1, 3, 1, 0],\n",
      "                  [2, 7, 0, 1]])"
     ],
     "language": "python",
     "metadata": {},
     "outputs": [],
     "prompt_number": 27
    },
    {
     "cell_type": "markdown",
     "metadata": {},
     "source": [
      "Now we'll do elimination to turn the left two columns into the identity and the matrix's inverse will then show up in the right two columns!\n",
      "\n",
      "First, we'll take two of the first row away from the second row."
     ]
    },
    {
     "cell_type": "code",
     "collapsed": false,
     "input": [
      "A_aug_new = A_aug.copy()\n",
      "A_aug_new[1] = A_aug_new[1] - A_aug_new[0] * 2\n",
      "A_aug_new"
     ],
     "language": "python",
     "metadata": {},
     "outputs": [
      {
       "metadata": {},
       "output_type": "pyout",
       "prompt_number": 28,
       "text": [
        "array([[ 1,  3,  1,  0],\n",
        "       [ 0,  1, -2,  1]])"
       ]
      }
     ],
     "prompt_number": 28
    },
    {
     "cell_type": "markdown",
     "metadata": {},
     "source": [
      "Now we're in upper triangular form, which is enough for Gauss, but not enough for Jordan. We can also use elimination upwards. Subtract three of equation 2 from equation 1."
     ]
    },
    {
     "cell_type": "code",
     "collapsed": false,
     "input": [
      "A_aug_new[0] = A_aug_new[0] - A_aug_new[1] * 3\n",
      "A_aug_new"
     ],
     "language": "python",
     "metadata": {},
     "outputs": [
      {
       "metadata": {},
       "output_type": "pyout",
       "prompt_number": 29,
       "text": [
        "array([[ 1,  0,  7, -3],\n",
        "       [ 0,  1, -2,  1]])"
       ]
      }
     ],
     "prompt_number": 29
    },
    {
     "cell_type": "markdown",
     "metadata": {},
     "source": [
      "So now we see that the first two columns are the identity, which means that \n",
      "\n",
      "$\\pmb{A}^{-1} =\n",
      "\\begin{bmatrix}\n",
      "7 & -3 \\\\\n",
      "-2 &  1\n",
      "\\end{bmatrix}$\n",
      "\n",
      "Let's do a quick double check using NumPy."
     ]
    },
    {
     "cell_type": "code",
     "collapsed": false,
     "input": [
      "np.linalg.inv(A)"
     ],
     "language": "python",
     "metadata": {},
     "outputs": [
      {
       "metadata": {},
       "output_type": "pyout",
       "prompt_number": 30,
       "text": [
        "array([[ 7., -3.],\n",
        "       [-2.,  1.]])"
       ]
      }
     ],
     "prompt_number": 30
    },
    {
     "cell_type": "code",
     "collapsed": false,
     "input": [
      "A.dot(np.linalg.inv(A))"
     ],
     "language": "python",
     "metadata": {},
     "outputs": [
      {
       "metadata": {},
       "output_type": "pyout",
       "prompt_number": 31,
       "text": [
        "array([[ 1.,  0.],\n",
        "       [ 0.,  1.]])"
       ]
      }
     ],
     "prompt_number": 31
    }
   ],
   "metadata": {}
  }
 ]
}