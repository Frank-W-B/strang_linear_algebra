{
 "metadata": {
  "name": "",
  "signature": "sha256:b3694bc2f864ebd233cff8effc2a513fcce72f00168a394795b1c7a91107bf6a"
 },
 "nbformat": 3,
 "nbformat_minor": 0,
 "worksheets": [
  {
   "cells": [
    {
     "cell_type": "code",
     "collapsed": false,
     "input": [
      "from __future__ import division, print_function\n",
      "\n",
      "import numpy as np\n",
      "\n",
      "from IPython.display import YouTubeVideo"
     ],
     "language": "python",
     "metadata": {},
     "outputs": [],
     "prompt_number": 1
    },
    {
     "cell_type": "code",
     "collapsed": false,
     "input": [
      "YouTubeVideo('VqP2tREMvt0')"
     ],
     "language": "python",
     "metadata": {},
     "outputs": [
      {
       "html": [
        "\n",
        "        <iframe\n",
        "            width=\"400\"\n",
        "            height=300\"\n",
        "            src=\"https://www.youtube.com/embed/VqP2tREMvt0\"\n",
        "            frameborder=\"0\"\n",
        "            allowfullscreen\n",
        "        ></iframe>\n",
        "        "
       ],
       "metadata": {},
       "output_type": "pyout",
       "prompt_number": 2,
       "text": [
        "<IPython.lib.display.YouTubeVideo at 0x7f61852ad2e8>"
       ]
      }
     ],
     "prompt_number": 2
    },
    {
     "cell_type": "markdown",
     "metadata": {},
     "source": [
      "Continuing with vector spaces, especially the null and column spaces. Now we will learn how to compete these spaces and describe all of the vectors within these spaces. In other words, what's the algorithm for solving $\\mathbf{A}x = 0$?"
     ]
    },
    {
     "cell_type": "code",
     "collapsed": false,
     "input": [
      "A = np.array([[1, 2, 2, 2],\n",
      "              [2, 4, 6, 8],\n",
      "              [3, 6, 8, 10]])"
     ],
     "language": "python",
     "metadata": {},
     "outputs": [],
     "prompt_number": 3
    },
    {
     "cell_type": "markdown",
     "metadata": {},
     "source": [
      "Problems we see immediately -- the second column is a multiple of the first column (it's not independent). Further, the third row is not independent, it's the sum of the first two rows. So now we need to use elimination, but need an algorith to do so even if there are zeros in the pivots.\n",
      "\n",
      "Importantly -- while we are doing elimination to solve this system of equations (remember, solving for the *null space*), we're not changing that space. But we **will** be changing the column space.\n",
      "\n",
      "We know the first pivot is A[0, 0] and we know the first step we need to take."
     ]
    },
    {
     "cell_type": "code",
     "collapsed": false,
     "input": [
      "A_e = np.vstack([A[0], (A[1] - (2 * A[0])), (A[2] - 3 * A[0])])\n",
      "A_e"
     ],
     "language": "python",
     "metadata": {},
     "outputs": [
      {
       "metadata": {},
       "output_type": "pyout",
       "prompt_number": 19,
       "text": [
        "array([[1, 2, 2, 2],\n",
        "       [0, 0, 2, 4],\n",
        "       [0, 0, 2, 4]])"
       ]
      }
     ],
     "prompt_number": 19
    },
    {
     "cell_type": "code",
     "collapsed": false,
     "input": [
      "A_e"
     ],
     "language": "python",
     "metadata": {},
     "outputs": [
      {
       "metadata": {},
       "output_type": "pyout",
       "prompt_number": 14,
       "text": [
        "array([[1, 2, 2, 2],\n",
        "       [0, 0, 2, 4],\n",
        "       [0, 0, 2, 4]])"
       ]
      }
     ],
     "prompt_number": 14
    },
    {
     "cell_type": "markdown",
     "metadata": {},
     "source": [
      "But now there's a zero in the second pivot, and there's no non-zero below it for a row exchange. This tells us that that column *dependent* on the earlier columns! It's a combination of those columns. What about the third pivot?"
     ]
    },
    {
     "cell_type": "code",
     "collapsed": false,
     "input": [
      "U = np.vstack([A_e[0], A_e[1], (A_e[2] - A_e[1])])\n",
      "U"
     ],
     "language": "python",
     "metadata": {},
     "outputs": [
      {
       "metadata": {},
       "output_type": "pyout",
       "prompt_number": 22,
       "text": [
        "array([[1, 2, 2, 2],\n",
        "       [0, 0, 2, 4],\n",
        "       [0, 0, 0, 0]])"
       ]
      }
     ],
     "prompt_number": 22
    },
    {
     "cell_type": "markdown",
     "metadata": {},
     "source": [
      "We can call this **U** now, but it's not really upper triangular. It's in what's called *echelon form*. Strang says echelon form basically means \"staircase\" form. The non-zeros are not on the diagonal but form a kind of staircase.\n",
      "\n",
      "So we only had two pivots to work with. More formally this means that the **rank** of the matrix is equal to 2. \n",
      "\n",
      "Now that we have $\\mathbf{U}$, we can solve $\\mathbf{U}x = 0$ using back substitution. What are the solutions?\n",
      "\n",
      "We've separated out the *pivot columns* (variables), the first and the third columns. The other columns are called *free columns*. Why are they called free columns?\n",
      "\n",
      "These columns correspond to $x_2$ and $x_4$ in our unknown coefficient matrix. We can assign anything we want to those two variables and solve the equations for $x_1$ and $x_3$. For instance, say we just assign them 1 and 0."
     ]
    },
    {
     "cell_type": "markdown",
     "metadata": {},
     "source": [
      "<center>\n",
      "$x = \n",
      "\\begin{bmatrix}\n",
      "x_1 \\\\\n",
      "1 \\\\\n",
      "x_3 \\\\\n",
      "0\n",
      "\\end{bmatrix}\n",
      "$\n",
      "</center>"
     ]
    },
    {
     "cell_type": "code",
     "collapsed": false,
     "input": [
      "np.linalg.matrix_rank(A)"
     ],
     "language": "python",
     "metadata": {},
     "outputs": [
      {
       "metadata": {},
       "output_type": "pyout",
       "prompt_number": 32,
       "text": [
        "2"
       ]
      }
     ],
     "prompt_number": 32
    },
    {
     "cell_type": "markdown",
     "metadata": {},
     "source": [
      "Remember that our two equations, from the matrix above are:\n",
      "\n",
      "<center>\n",
      "$x_1 + 2x_2 + 2x_3 + 2x_4 = 0\\\\\n",
      "2x_3 + 4x_4 = 0$\n",
      "</center>"
     ]
    },
    {
     "cell_type": "markdown",
     "metadata": {},
     "source": [
      "From this it's pretty clear that $x_3$ = 0, because we've set $x_4 = 0$.\n",
      "\n",
      "If we've set $x_2$ to be 1, then we now know that $x_1 = -2$. So:"
     ]
    },
    {
     "cell_type": "markdown",
     "metadata": {},
     "source": [
      "<center>\n",
      "$x = \n",
      "\\begin{bmatrix}\n",
      "-2 \\\\\n",
      "1 \\\\\n",
      "0 \\\\\n",
      "0\n",
      "\\end{bmatrix}\n",
      "$\n",
      "</center>"
     ]
    },
    {
     "cell_type": "markdown",
     "metadata": {},
     "source": [
      "So, that's one vector in the null space. What are others? We could just take any multiple of $x$. "
     ]
    },
    {
     "cell_type": "markdown",
     "metadata": {},
     "source": [
      "<center>\n",
      "$x = \n",
      "c \\times\n",
      "\\begin{bmatrix}\n",
      "-2 \\\\\n",
      "1 \\\\\n",
      "0 \\\\\n",
      "0\n",
      "\\end{bmatrix}\n",
      "$\n",
      "</center>"
     ]
    },
    {
     "cell_type": "markdown",
     "metadata": {},
     "source": [
      "What if we initialized $x_2$ and $x_4$ to be different values? Say 0 and 1 instead of 1 and 0, respectively."
     ]
    },
    {
     "cell_type": "markdown",
     "metadata": {},
     "source": [
      "<center>\n",
      "$x = \n",
      "c \\times\n",
      "\\begin{bmatrix}\n",
      "2 \\\\\n",
      "0 \\\\\n",
      "-2 \\\\\n",
      "1\n",
      "\\end{bmatrix}\n",
      "$\n",
      "</center>"
     ]
    },
    {
     "cell_type": "markdown",
     "metadata": {},
     "source": [
      "We could take any combination of these two vectors as well. There's a solution for each free variable.\n",
      "\n",
      "If the rank $r = 2$, then that's the number of pivot variables. Generalizing, for an $m \\times n$ matrix with rank $r$, how many free variables are there? $n - r$ free variables."
     ]
    },
    {
     "cell_type": "markdown",
     "metadata": {},
     "source": [
      "This is a complete algorithm for finding all of the solutions to $\\mathbf{A}x = 0$. Do elimination, ignoring columns that can't be operated on due to zeros, leaving $n - r$ free variables. "
     ]
    },
    {
     "cell_type": "markdown",
     "metadata": {},
     "source": [
      "One more step to think about. If **U** is in *upper echelon form*, we want to get it into *reduced row echelon form*, **R**."
     ]
    },
    {
     "cell_type": "code",
     "collapsed": false,
     "input": [
      "U"
     ],
     "language": "python",
     "metadata": {},
     "outputs": [
      {
       "metadata": {},
       "output_type": "pyout",
       "prompt_number": 24,
       "text": [
        "array([[1, 2, 2, 2],\n",
        "       [0, 0, 2, 4],\n",
        "       [0, 0, 0, 0]])"
       ]
      }
     ],
     "prompt_number": 24
    },
    {
     "cell_type": "markdown",
     "metadata": {},
     "source": [
      "What about the row of zeros? It's there because the third row was a combination of the first two, and this was revealed by elimination. Let's try doing elimination upwards and get zeros *above* **and** *below* the pivots."
     ]
    },
    {
     "cell_type": "code",
     "collapsed": false,
     "input": [
      "U_r = np.vstack([(U[0] - U[1]), U[1], U[2]])\n",
      "U_r"
     ],
     "language": "python",
     "metadata": {},
     "outputs": [
      {
       "metadata": {},
       "output_type": "pyout",
       "prompt_number": 27,
       "text": [
        "array([[ 1,  2,  0, -2],\n",
        "       [ 0,  0,  2,  4],\n",
        "       [ 0,  0,  0,  0]])"
       ]
      }
     ],
     "prompt_number": 27
    },
    {
     "cell_type": "markdown",
     "metadata": {},
     "source": [
      "Now we want to make the pivots equal to 1 by dividing equation 2 by the pivot."
     ]
    },
    {
     "cell_type": "code",
     "collapsed": false,
     "input": [
      "R = np.vstack([U_r[0], (U[1] / 2), U[2]])\n",
      "R"
     ],
     "language": "python",
     "metadata": {},
     "outputs": [
      {
       "metadata": {},
       "output_type": "pyout",
       "prompt_number": 29,
       "text": [
        "array([[ 1.,  2.,  0., -2.],\n",
        "       [ 0.,  0.,  1.,  2.],\n",
        "       [ 0.,  0.,  0.,  0.]])"
       ]
      }
     ],
     "prompt_number": 29
    },
    {
     "cell_type": "markdown",
     "metadata": {},
     "source": [
      "(You'll note here that Python converted these to floats because by default Python 3 no longer performs integer division.)\n",
      "\n",
      "A matrix in reduced row echelon form contains a lot of information. We know the pivots are the first and third columns. It also contains the $2 \\times 2$ identity matrix in the pivot rows and pivot columns. "
     ]
    },
    {
     "cell_type": "code",
     "collapsed": false,
     "input": [
      "np.array_equal(np.eye(2), R[0:2, [0, 2]])"
     ],
     "language": "python",
     "metadata": {},
     "outputs": [
      {
       "metadata": {},
       "output_type": "pyout",
       "prompt_number": 39,
       "text": [
        "True"
       ]
      }
     ],
     "prompt_number": 39
    },
    {
     "cell_type": "markdown",
     "metadata": {},
     "source": [
      "We can now also solve $\\mathbf{R}x = 0$."
     ]
    },
    {
     "cell_type": "markdown",
     "metadata": {},
     "source": [
      "In fact, if we break **R** down into two components, the pivot components which form the identity matrix **I**, and the free components, which we'll call **F**, we actually see the two solutions we found for $x$ above with their signs switched as the columns!"
     ]
    },
    {
     "cell_type": "markdown",
     "metadata": {},
     "source": [
      "$\n",
      "\\mathbf{I} = \n",
      "\\begin{bmatrix}\n",
      "1 & 0 \\\\\n",
      "0 & 1\n",
      "\\end{bmatrix}\n",
      "$\n",
      "\n",
      "$\n",
      "\\mathbf{F} = \n",
      "\\begin{bmatrix}\n",
      "2 & -2 \\\\\n",
      "0 & 2\n",
      "\\end{bmatrix}\n",
      "$"
     ]
    },
    {
     "cell_type": "markdown",
     "metadata": {},
     "source": [
      "$\n",
      "\\mathbf{R} = \n",
      "\\begin{bmatrix}\n",
      "\\mathbf{I} & \\mathbf{F} \\\\\n",
      "0 & 0\n",
      "\\end{bmatrix}\n",
      "$"
     ]
    },
    {
     "cell_type": "markdown",
     "metadata": {},
     "source": [
      "This is a matrix with $r$ pivot rows (remember, that's the *rank*), $r$ pivot columns, and $n - r$ free columns. \n",
      "\n",
      "If we want to solve $\\mathbf{R}x = 0$, what are all the solutions at once? We need to create a *nullspace matrix*. The columns are \"special solutions\" from above. We want to find this nullspace matrix **N** such that:\n",
      "\n",
      "$\\mathbf{RN} = 0$.\n",
      "\n",
      "It will work out such that:\n",
      "$\n",
      "\\mathbf{N} = \n",
      "\\begin{bmatrix}\n",
      "-\\mathbf{F} \\\\\n",
      "\\mathbf{I}\n",
      "\\end{bmatrix}\n",
      "$"
     ]
    },
    {
     "cell_type": "markdown",
     "metadata": {},
     "source": [
      "Note that while Matlab has convenient functions for finding the reduced row echelon form (rref) and nullspace matrix (null), NumPy does not. You can use `SymPy` to find it, or you can write your own function. For an interesting discussion about why this is, check [this out](http://mail.scipy.org/pipermail/numpy-discussion/2008-November/038705.html). As it turns out, you don't really have much cause to construct matrices in these way for most typical numerical computing."
     ]
    },
    {
     "cell_type": "code",
     "collapsed": false,
     "input": [
      "A"
     ],
     "language": "python",
     "metadata": {},
     "outputs": [
      {
       "metadata": {},
       "output_type": "pyout",
       "prompt_number": 40,
       "text": [
        "array([[ 1,  2,  2,  2],\n",
        "       [ 2,  4,  6,  8],\n",
        "       [ 3,  6,  8, 10]])"
       ]
      }
     ],
     "prompt_number": 40
    },
    {
     "cell_type": "markdown",
     "metadata": {},
     "source": [
      "Let's take a look at $\\mathbf{A}'$."
     ]
    },
    {
     "cell_type": "code",
     "collapsed": false,
     "input": [
      "A_t = A.T\n",
      "A_t"
     ],
     "language": "python",
     "metadata": {},
     "outputs": [
      {
       "metadata": {},
       "output_type": "pyout",
       "prompt_number": 42,
       "text": [
        "array([[ 1,  2,  3],\n",
        "       [ 2,  4,  6],\n",
        "       [ 2,  6,  8],\n",
        "       [ 2,  8, 10]])"
       ]
      }
     ],
     "prompt_number": 42
    },
    {
     "cell_type": "markdown",
     "metadata": {},
     "source": [
      "How many pivot variables are there here? There are three columns, will there be three pivots? No. The third column is a combination of the first two. We'll have two pivots. We'll also find there are some dependent rows. What is the reduced row echelon form of $\\mathbf{A}'$?"
     ]
    },
    {
     "cell_type": "code",
     "collapsed": false,
     "input": [
      "A_t_e = np.vstack([A_t[0], \n",
      "                  (A_t[1] - 2 * A_t[0]),\n",
      "                  (A_t[2] - 2 * A_t[0]),\n",
      "                  (A_t[3] - 2 * A_t[0])])\n",
      "A_t_e"
     ],
     "language": "python",
     "metadata": {},
     "outputs": [
      {
       "metadata": {},
       "output_type": "pyout",
       "prompt_number": 44,
       "text": [
        "array([[1, 2, 3],\n",
        "       [0, 0, 0],\n",
        "       [0, 2, 2],\n",
        "       [0, 4, 4]])"
       ]
      }
     ],
     "prompt_number": 44
    },
    {
     "cell_type": "code",
     "collapsed": false,
     "input": [
      "A_t_e_2 = np.vstack([A_t_e[0],\n",
      "                     A_t_e[2],\n",
      "                     A_t_e[1],\n",
      "                     A_t_e[3]])\n",
      "\n",
      "A_t_e_2"
     ],
     "language": "python",
     "metadata": {},
     "outputs": [
      {
       "metadata": {},
       "output_type": "pyout",
       "prompt_number": 46,
       "text": [
        "array([[1, 2, 3],\n",
        "       [0, 2, 2],\n",
        "       [0, 0, 0],\n",
        "       [0, 4, 4]])"
       ]
      }
     ],
     "prompt_number": 46
    },
    {
     "cell_type": "code",
     "collapsed": false,
     "input": [
      "U = np.vstack([A_t_e_2[0],\n",
      "               A_t_e_2[1],\n",
      "               A_t_e_2[2],\n",
      "               (A_t_e_2[3] - 2 * A_t_e_2[1])])\n",
      "\n",
      "U"
     ],
     "language": "python",
     "metadata": {},
     "outputs": [
      {
       "metadata": {},
       "output_type": "pyout",
       "prompt_number": 48,
       "text": [
        "array([[1, 2, 3],\n",
        "       [0, 2, 2],\n",
        "       [0, 0, 0],\n",
        "       [0, 0, 0]])"
       ]
      }
     ],
     "prompt_number": 48
    },
    {
     "cell_type": "code",
     "collapsed": false,
     "input": [
      "np.linalg.matrix_rank(U)"
     ],
     "language": "python",
     "metadata": {},
     "outputs": [
      {
       "metadata": {},
       "output_type": "pyout",
       "prompt_number": 51,
       "text": [
        "2"
       ]
      }
     ],
     "prompt_number": 51
    },
    {
     "cell_type": "markdown",
     "metadata": {},
     "source": [
      "The rank is still 2 for the transpose of **A**. There is now *one* free column / variable. What's in the null space? What's $x$? Give the free variable a convenient variable (let's use 1). If we set it to 0, we'll only get zeros."
     ]
    },
    {
     "cell_type": "code",
     "collapsed": false,
     "input": [
      "R = np.vstack([(U[0] - U[1]),\n",
      "               (U[1] / 2),\n",
      "               U[2],\n",
      "               U[3]])\n",
      "\n",
      "R"
     ],
     "language": "python",
     "metadata": {},
     "outputs": [
      {
       "metadata": {},
       "output_type": "pyout",
       "prompt_number": 54,
       "text": [
        "array([[ 1.,  0.,  1.],\n",
        "       [ 0.,  1.,  1.],\n",
        "       [ 0.,  0.,  0.],\n",
        "       [ 0.,  0.,  0.]])"
       ]
      }
     ],
     "prompt_number": 54
    }
   ],
   "metadata": {}
  }
 ]
}