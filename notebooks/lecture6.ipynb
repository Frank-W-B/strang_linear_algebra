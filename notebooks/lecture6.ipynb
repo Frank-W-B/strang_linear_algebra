{
 "metadata": {
  "name": "",
  "signature": "sha256:cee19eb2ad08ab06d2518adc00400778b0edb535ac9de835fa598d3a157c2ca4"
 },
 "nbformat": 3,
 "nbformat_minor": 0,
 "worksheets": [
  {
   "cells": [
    {
     "cell_type": "code",
     "collapsed": false,
     "input": [
      "from __future__ import print_function\n",
      "\n",
      "from IPython.display import YouTubeVideo\n",
      "\n",
      "import matplotlib.pyplot as plt\n",
      "import numpy as np\n",
      "import pandas as pd\n",
      "\n",
      "%matplotlib inline"
     ],
     "language": "python",
     "metadata": {},
     "outputs": [],
     "prompt_number": 2
    },
    {
     "cell_type": "code",
     "collapsed": true,
     "input": [
      "YouTubeVideo('8o5Cmfpeo6g')"
     ],
     "language": "python",
     "metadata": {},
     "outputs": [
      {
       "html": [
        "\n",
        "        <iframe\n",
        "            width=\"400\"\n",
        "            height=300\"\n",
        "            src=\"https://www.youtube.com/embed/8o5Cmfpeo6g\"\n",
        "            frameborder=\"0\"\n",
        "            allowfullscreen\n",
        "        ></iframe>\n",
        "        "
       ],
       "metadata": {},
       "output_type": "pyout",
       "prompt_number": 3,
       "text": [
        "<IPython.lib.display.YouTubeVideo at 0x10447f7d0>"
       ]
      }
     ],
     "prompt_number": 3
    },
    {
     "cell_type": "markdown",
     "metadata": {},
     "source": [
      "This is the \"official\" lecture on vector spaces and subspaces, and focusing especially on two spaces: the *column space* of a matrix and the *null space* of a matrix.\n",
      "\n",
      "Vector space requirements refresher from Lecture 5:\n",
      "\n",
      "1) A bunch of vectors where you can add any two vectors in the space and the answer stays in the space.\n",
      "2) Multiply any vector in the space and the result stays in the space.\n",
      "\n",
      "In other words:\n",
      "\n",
      "- $v + w$ and $cv$ are in the space.\n",
      "- All combinations $cv + dw$ are in the space.\n",
      "\n",
      "Some examples. Suppose in 3-dimensions, one possible space is all of the 3-D space, $\\mathbb{R}^3$. There are also vectors inside $\\mathbb{R}^3$ that comprise a vector space -- a vector *subspace*. An example is a plane going through [0, 0, 0]. A line going through the origin would also be a subspace of $\\mathbb{R}^3$.  Call the plane $P$ and the line $L$. For purposes of illustration, let's say that the only point $P$ and $L$ have in common is zero."
     ]
    },
    {
     "cell_type": "markdown",
     "metadata": {},
     "source": [
      "What about the union of $P$ and $L$?\n",
      "\n",
      "$P \\cup L$ = all vectors in $P$ or $L$ or both. Is this a subspace? "
     ]
    },
    {
     "cell_type": "markdown",
     "metadata": {},
     "source": [
      "No! You can't add any vector from $P$ to some vector from $L$ and still be in this space. You'll be outside the union. \n",
      "\n",
      "But what about the intersection, $P \\cap L$, all of the vectors in $P$ **and** $L$?\n",
      "\n",
      "In this case, $P \\cap L$ is only zero. The zero vector by *itself* is a subspace, so yes, the intersection for this plane and this line is a subspace. But what about for any subspaces $S$ and $T$? Is their intersection $S \\cap T$ a subspace?"
     ]
    },
    {
     "cell_type": "markdown",
     "metadata": {},
     "source": [
      "It is -- but why?\n",
      "\n",
      "Say you have two vectors, $v$ and $w$ that are in the intersection. Logically, this means they're both contained in $S$ as well as in $T$. So $v + w$ is also in $S$. The sum of two vectors in a subspace must also lie in that subspace. But since they are also in $T$, their sum must also be in $T$. Therefore, requirement 1 from above is met.\n",
      "\n",
      "Same thing for requirement 2. If you multiply a vector in $S$ by some constant, the product must also lie in $S$, because it is a subspace. Since we are talking about the intersection of $S$ and $T$, the same must be true for $T$.\n",
      "\n",
      "In other words, we need to be able to take *linear combinations* within the subspace, which is just the result of combining requirements 1 and 2 (addition and scalar multiplication)."
     ]
    },
    {
     "cell_type": "markdown",
     "metadata": {},
     "source": [
      "## Column space"
     ]
    },
    {
     "cell_type": "code",
     "collapsed": false,
     "input": [
      "A = np.array([[1, 1, 2],\n",
      "              [2, 1, 3],\n",
      "              [3, 1, 4],\n",
      "              [4, 1, 5]])"
     ],
     "language": "python",
     "metadata": {},
     "outputs": [],
     "prompt_number": 6
    },
    {
     "cell_type": "markdown",
     "metadata": {},
     "source": [
      "Each of the columns of **A** are vectors. The column space of this matrix is a subspace of $\\mathbb{R}^4$ as **A** is a $4 \\times 3$ matrix.\n",
      "\n",
      "Let's call the column space $C(\\mathbf{A})$. How do we identify the subspace? Take the linear combinations to find $C(\\mathbf{A})$ -- all linear combinations of the columns are in this subspace.\n",
      "\n",
      "Does $C(\\mathbf{A})$ fill the entire 4-D space? No (Strang says trust your gut for now). How do we find the smaller space that it fills? Not so easy -- we have to connect this to linear equations. \n",
      "\n",
      "Remember, fundmentally we're trying to understand $\\mathbf{A}x = b$. So, we can ask does $\\mathbf{A}x = b$ have a solution for every $b$? (Spoiler: no.) But why not? $\\mathbf{A}x = b$ is **four** equations, with only **three** unknowns!\n",
      "\n",
      "This is what we're looking at in expanded form:"
     ]
    },
    {
     "cell_type": "markdown",
     "metadata": {},
     "source": [
      "<center>\n",
      "$\n",
      "\\begin{bmatrix}\n",
      "1 & 1 & 2 \\\\\n",
      "2 & 1 & 3 \\\\\n",
      "3 & 1 & 4 \\\\\n",
      "4 & 1 & 5\n",
      "\\end{bmatrix}\n",
      "\\begin{bmatrix}\n",
      "x_1 \\\\\n",
      "x_2 \\\\\n",
      "x_3 \n",
      "\\end{bmatrix}\n",
      "=\n",
      "\\begin{bmatrix}\n",
      "b_1 \\\\\n",
      "b_2 \\\\\n",
      "b_3 \\\\\n",
      "b_4\n",
      "\\end{bmatrix}\n",
      "$\n",
      "</center>"
     ]
    },
    {
     "cell_type": "markdown",
     "metadata": {},
     "source": [
      "But what if we **could** solve for three unknowns with four equations? We can do this for some $b$s. Which ones?\n",
      "\n",
      "We know we could solve this with all zeros on the RHS. What about [1, 2, 3 4]? What $x$ solves this? [1, 0, 0] solves this. This means one of column 1, no column 2, no column 3. \n",
      "\n",
      "Another $b$ that would work would be [1, 1, 1, 1], in which case $x$ = [0, 1, 0]. And so on.\n",
      "\n",
      "We can solve $\\mathbf{A}x = b$ when $b$ is a vector in the column space (i.e., is a linear combination of the columns).\n",
      "\n",
      "Thinking about this another way, the column space is just all the columns in $\\mathbf{A}$ times any $x$, which by definition is the $b$s!"
     ]
    },
    {
     "cell_type": "markdown",
     "metadata": {},
     "source": [
      "Next question -- are the three columns independent? Does each column make some new contribution?\n",
      "\n",
      "Can we get rid of any of these columns and have the same *column space*? Yes -- the final column is just the sum of the first two."
     ]
    },
    {
     "cell_type": "code",
     "collapsed": false,
     "input": [
      "np.array_equal(A[:, 2], A[:, 0] + A[:, 1])"
     ],
     "language": "python",
     "metadata": {},
     "outputs": [
      {
       "metadata": {},
       "output_type": "pyout",
       "prompt_number": 11,
       "text": [
        "True"
       ]
      }
     ],
     "prompt_number": 11
    },
    {
     "cell_type": "markdown",
     "metadata": {},
     "source": [
      "This means that the column space of **A** is a two-dimensional subspace of $\\mathbb{R}^4$."
     ]
    },
    {
     "cell_type": "markdown",
     "metadata": {},
     "source": [
      "## Null space\n",
      "\n",
      "Using the same **A** as above, this will be a totally different subspace than the column space above. It contains $x$s instead of the $b$s. It contains all the $x$s that solve the equation $\\mathbf{A}x = 0$. In other words, $b$ = [0, 0, 0, 0] using the example above. We'll refer to it as $N(\\mathbf{A})$.\n",
      "\n",
      "This is a subspace of $\\mathbb{R}^3$, because there are three unknowns in the example above.\n",
      "\n",
      "<center>\n",
      "$\n",
      "x\n",
      "=\n",
      "\\begin{bmatrix}\n",
      "x_1 \\\\\n",
      "x_2 \\\\\n",
      "x_3\n",
      "\\end{bmatrix}\n",
      "$\n",
      "</center>"
     ]
    },
    {
     "cell_type": "markdown",
     "metadata": {},
     "source": [
      "Using this small example we can find the null space by just eyeballing it (we could also use elimination). "
     ]
    },
    {
     "cell_type": "code",
     "collapsed": false,
     "input": [
      "A"
     ],
     "language": "python",
     "metadata": {},
     "outputs": [
      {
       "metadata": {},
       "output_type": "pyout",
       "prompt_number": 12,
       "text": [
        "array([[1, 1, 2],\n",
        "       [2, 1, 3],\n",
        "       [3, 1, 4],\n",
        "       [4, 1, 5]])"
       ]
      }
     ],
     "prompt_number": 12
    },
    {
     "cell_type": "markdown",
     "metadata": {},
     "source": [
      "One solution is obviously the zero vector because **A** times the zero vector yields zeros for all equations. To find other solutions, we're looking for *linear combinations* of those columns that produce zeros. \n",
      "\n",
      "What about [1, 1, -1]?"
     ]
    },
    {
     "cell_type": "code",
     "collapsed": false,
     "input": [
      "A.dot([1, 1, -1])"
     ],
     "language": "python",
     "metadata": {},
     "outputs": [
      {
       "metadata": {},
       "output_type": "pyout",
       "prompt_number": 15,
       "text": [
        "array([0, 0, 0, 0])"
       ]
      }
     ],
     "prompt_number": 15
    },
    {
     "cell_type": "markdown",
     "metadata": {},
     "source": [
      "The null space is all vectors of the form $[c, c, -c]$ where $c$ is any number. A line in $\\mathbb{R}^3$."
     ]
    },
    {
     "cell_type": "code",
     "collapsed": false,
     "input": [
      "A.dot([12345, 12345, -12345])"
     ],
     "language": "python",
     "metadata": {},
     "outputs": [
      {
       "metadata": {},
       "output_type": "pyout",
       "prompt_number": 17,
       "text": [
        "array([0, 0, 0, 0])"
       ]
      }
     ],
     "prompt_number": 17
    },
    {
     "cell_type": "markdown",
     "metadata": {},
     "source": [
      "How do we know that the null space is a vector space? Check that solutions to $\\mathbf{A}x = 0$ always give a subspace. \n",
      "\n",
      "If we have two solutions $v$ and $w$, and $\\mathbf{A}v = 0$ and $\\mathbf{A}w = 0$, then $\\mathbf{A}(v + w) = 0$ as well (because this is equivalent to $\\mathbf{A}v + \\mathbf{A}w$ = 0 -- this is the distributive law. \n",
      "\n",
      "Next up -- how do we find subspaces in bigger examples and can't just eyeball it."
     ]
    }
   ],
   "metadata": {}
  }
 ]
}