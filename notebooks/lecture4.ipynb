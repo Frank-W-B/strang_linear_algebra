{
 "metadata": {
  "name": "",
  "signature": "sha256:1ce68d52a30f8b8f919cf84b5c3f8518f8ad37ae2a5f788267397dcb5722af32"
 },
 "nbformat": 3,
 "nbformat_minor": 0,
 "worksheets": [
  {
   "cells": [
    {
     "cell_type": "code",
     "collapsed": false,
     "input": [
      "from __future__ import division, print_function\n",
      "\n",
      "from IPython.display import YouTubeVideo\n",
      "\n",
      "import numpy as np"
     ],
     "language": "python",
     "metadata": {},
     "outputs": [],
     "prompt_number": 3
    },
    {
     "cell_type": "code",
     "collapsed": false,
     "input": [
      "# Note video quality on this lecture is very poor and a higher quality version is not available.\n",
      "# The audio of Strang's speech is much louder in one speaker and the crowd noise is much louder in the other,\n",
      "# so I recommend listening with one headphone. \n",
      "    \n",
      "YouTubeVideo('5hO3MrzPa0A') "
     ],
     "language": "python",
     "metadata": {},
     "outputs": [
      {
       "html": [
        "\n",
        "        <iframe\n",
        "            width=\"400\"\n",
        "            height=300\"\n",
        "            src=\"https://www.youtube.com/embed/5hO3MrzPa0A\"\n",
        "            frameborder=\"0\"\n",
        "            allowfullscreen\n",
        "        ></iframe>\n",
        "        "
       ],
       "metadata": {},
       "output_type": "pyout",
       "prompt_number": 2,
       "text": [
        "<IPython.lib.display.YouTubeVideo at 0x7f0204328e80>"
       ]
      }
     ],
     "prompt_number": 2
    },
    {
     "cell_type": "markdown",
     "metadata": {},
     "source": [
      "This lecture remains fairly abstract, but it's all about establishing the basic operations you need to know to do more applied linear algebra.\n",
      "\n",
      "Continuing to discuss inverses. If you multiply two invertible matrices together, how do you get the inverse of the product?\n",
      "\n",
      "We alreayd know:\n",
      "\n",
      "$\n",
      "\\pmb{AA}^{-1} = \\pmb{I} = \\pmb{A}^{-1}\\pmb{A}\n",
      "$\n",
      "\n",
      "So what about $\\pmb{AB}$? What is its inverse?\n",
      "\n",
      "By the end of this lecture, we'll have the base formula for *Gaussian elimination*. "
     ]
    },
    {
     "cell_type": "markdown",
     "metadata": {},
     "source": [
      "We'll multiply in reverse order. So:\n",
      "\n",
      "$\\pmb{ABB}^{-1}\\pmb{A}^{-1} = \\pmb{I}$\n",
      "\n",
      "Remember that we can move parentheses around and pick which multiplication to do first. So, first we can multiply $\\pmb{B}$ and $\\pmb{B}^{-1}$, which gives the identity. \n",
      "\n",
      "$\\pmb{A}\\pmb{I}\\pmb{A}^{-1} = \\pmb{I}$\n",
      "\n",
      "Then we can multiply $\\pmb{A}$ by the identity, which just produces $\\pmb{A}$ (remember, multiply a matrix by the identity is like multiplying a scalar by 1, it just produces itself.\n",
      "\n",
      "Then we're just left with:\n",
      "\n",
      "$\\pmb{AA}^{-1}$\n",
      "\n",
      "which produces the identity.\n",
      "\n",
      "So, the inverse of a product of two matrices is the product of the inverses of the matrices, but multiplied in reverse order.\n",
      "\n",
      "## Transposes\n",
      "\n",
      "A brief aside on transposes. Transposing a matrix just means to exchange its rows and columns.  If you transpose a square, invertible matrix, what's its inverse?\n",
      "\n",
      "If you transpose the identity, you get the identity. \n",
      "\n",
      "If you want to multiply a transposed matrix by its inverse to get the identity, you need to switch the order. \n",
      "\n",
      "$(\\pmb{A}^{-1})'\\pmb{A} = \\pmb{I}$\n",
      "\n",
      "And the inverse of a transposed matrix is the transpose of the inverse."
     ]
    },
    {
     "cell_type": "markdown",
     "metadata": {},
     "source": [
      "OK, now let's put all of this to use. We're really trying to round out how to do elimination, but need to know about inverses and transposes to do it.\n",
      "\n",
      "$\\pmb{A} = \\pmb{LU}$ is the most basic factorization of a matrix. \n",
      "\n",
      "Soon we won't be using row operations anymore, but need to master them before we can move on.\n",
      "\n",
      "Suppose we have a non-singular, invertible matrix **A** that doesn't require row exchanges. We want to get from **A** to **U** (the upper triangular matrix we can use to solve the system of equations via elimination and backsubstitution).\n",
      "\n",
      "So can we construct a matrix that tells us how to get from **A** to **U**? There's another matrix, **L**, that will help."
     ]
    },
    {
     "cell_type": "code",
     "collapsed": false,
     "input": [
      "A = np.array([[2, 1],\n",
      "              [8, 7]])"
     ],
     "language": "python",
     "metadata": {},
     "outputs": [],
     "prompt_number": 12
    },
    {
     "cell_type": "markdown",
     "metadata": {},
     "source": [
      "We're going to operate on this matrix using an elimination matrix to get it in upper triangular form. We know we need to multiply the first row by 4 and subtract that from row 2. Strang calls this elimination matrix $\\pmb{E}_{21}$, but because of NumPy's 0-indexing, I'm going to call it $\\pmb{E}_{10}$."
     ]
    },
    {
     "cell_type": "code",
     "collapsed": false,
     "input": [
      "E_10 = np.array([[1, 0],\n",
      "                [-4, 1]])\n",
      "\n",
      "U = E_10.dot(A) # Just multiply E_10 by A to get U.\n",
      "U"
     ],
     "language": "python",
     "metadata": {},
     "outputs": [
      {
       "metadata": {},
       "output_type": "pyout",
       "prompt_number": 13,
       "text": [
        "array([[2, 1],\n",
        "       [0, 3]])"
       ]
      }
     ],
     "prompt_number": 13
    },
    {
     "cell_type": "markdown",
     "metadata": {},
     "source": [
      "How is **L** related to **E**? It's its inverse. Elimination matrices are easy to invert.\n",
      "\n",
      "We already know:\n",
      "\n",
      "$\\pmb{E}_{10}\\pmb{A} = \\pmb{U}$.\n",
      "\n",
      "And we are finding out that:\n",
      "\n",
      "$\\pmb{A} = \\pmb{LU}$\n",
      "\n",
      "To get **L**, we just need to add back what the original elimination matrix removed. We're *factoring* the original matrix **A** into its parts, similar to how you would factor a polynomial. \n",
      "\n",
      "**U** stood for Upper triangular, **L** stands for lower triangular. While **L** has ones on the diagonal, **U** has the pivots on the diagonal.\n",
      "\n",
      "What does U need to be to satisfy the above equation?\n",
      "\n",
      "$\n",
      "\\begin{bmatrix}\n",
      "2 & 1 \\\\\n",
      "8 & 7\n",
      "\\end{bmatrix}\n",
      "=\n",
      "\\begin{bmatrix}\n",
      "? & ? \\\\\n",
      "? & ?\n",
      "\\end{bmatrix}\n",
      "\\begin{bmatrix}\n",
      "2 & 1 \\\\\n",
      "0 & 3\n",
      "\\end{bmatrix}\n",
      "$"
     ]
    },
    {
     "cell_type": "markdown",
     "metadata": {},
     "source": [
      "We start by knowing that **L** is the inverse of **E**.\n",
      "\n",
      "<center>\n",
      "$\n",
      "\\pmb{E} = \n",
      "\\begin{bmatrix}\n",
      "1 & 0 \\\\\n",
      "4 & -1\n",
      "\\end{bmatrix}\n",
      "$\n",
      "</center>"
     ]
    },
    {
     "cell_type": "markdown",
     "metadata": {},
     "source": [
      "And the inverse of that matrix is:\n",
      "\n",
      "<center>\n",
      "$\\pmb{E}^{-1} =\n",
      "\\begin{bmatrix}\n",
      "1 & 0 \\\\\n",
      "4 & 1\n",
      "\\end{bmatrix}\n",
      "= \\pmb{L}\n",
      "$\n",
      "</center>"
     ]
    },
    {
     "cell_type": "markdown",
     "metadata": {},
     "source": [
      "The 4 is positive now because we want to add back that row instead of using it in elimination. This is now an upper triangular matrix. We have ones on the diagonal, and all above-diagnoal values are 0.\n",
      "\n",
      "Let's check our work. Does $\\pmb{A} = \\pmb{LU}$?"
     ]
    },
    {
     "cell_type": "code",
     "collapsed": false,
     "input": [
      "L = np.array([[1, 0],\n",
      "              [4, 1]])\n",
      "\n",
      "np.array_equal(A, L.dot(U))"
     ],
     "language": "python",
     "metadata": {},
     "outputs": [
      {
       "metadata": {},
       "output_type": "pyout",
       "prompt_number": 14,
       "text": [
        "True"
       ]
      }
     ],
     "prompt_number": 14
    },
    {
     "cell_type": "markdown",
     "metadata": {},
     "source": [
      "This gets more complicated with 3x3 though. 2x2 is just a trivial example.\n",
      "\n",
      "Say we have a $3 \\times 3$ matrix, $\\pmb{A}$.\n",
      "\n",
      "The first elimination step is to multiply it by $\\pmb{E}_{21}$ to get a zero in the [2, 1] position. Then we need a zero in the [3, 1] position. Finally, we need a zero in the [3, 2] position. In the \"nice case\", i.e., no row exchanges, this produces **U**:\n",
      "\n",
      "$\\pmb{E}_{32} \\pmb{E}_{31} \\pmb{E}_{21} \\pmb{A} = \\pmb{U}$\n",
      "\n",
      "Now suppose you want all the elimination stuff on the RHS.\n",
      "\n",
      "$\\pmb{A} = \\_\\_\\_ \\; \\pmb{U}$\n",
      "\n",
      "It's the inverse of all those elimination matrices.\n",
      "\n",
      "$\\pmb{A} = \\pmb{E}_{21}^{-1} \\pmb{E}_{31}^{-1} \\pmb{E}_{32}^{-1}\\pmb{U}$\n",
      "\n",
      "which is equivalent to \n",
      "\n",
      "$\\pmb{A} = \\pmb{LU}$\n",
      "\n",
      "**L** is the product of the inverses of the elmination steps."
     ]
    },
    {
     "cell_type": "markdown",
     "metadata": {},
     "source": [
      "## Computational complexity\n",
      "\n",
      "All of the information about **A** is contained in **L** and **U**, so you can recover **A** from **L** and **U**. But how *expensive* is elimination?\n",
      "\n",
      "How many operations do we have to perform on an $n \\times n$ matrix **A**? Can we solve systems of order 1000 in seconds? minutes? weeks? What about order 1000000?\n",
      "\n",
      "What about a $100 \\times 100$ matrix ($n = 100$). How many operations are being conducted? Suppose there are no zeroes. If there are many zeros, we can skip those operations, increasing speed greatly.\n",
      "\n",
      "The first step is making sure there are all zeros in the column under the first row. The matrix is now effectively down to $99 \\times 99$.\n",
      "\n",
      "If we call each single operation a combination of multiplying and subtracting, the first step caused about $100^2$ operations; Strang says it would have been exactly $100^2$ if we'd had to change the first row as well.\n",
      "\n",
      "The second step causes about $99^2$ operations. And so on. So we're facing $O(\\frac{n^3}{3})$ complexity. The $\\frac{1}{3}$ is because the number of operations required decreases as you get further into elimination.\n",
      "\n",
      "(Using calculus we can produce this complexity calculation by integrating $n^2$ to get $\\frac{1}{3}n^3$)."
     ]
    },
    {
     "cell_type": "markdown",
     "metadata": {},
     "source": [
      "One more thing about operations -- what about the RHS? This has all been the LHS (A). What's the cost on the extra column vector b? Costs a lot less. Just one column. Carry it through elimination and do back substitution. The answer is $O(n^2)$.\n",
      "\n",
      "Now that we can do elimination and back substitution, we know the most fundamental operations in linear algebra for **solving systems of linear equations** (which is why we're here in the first place!).\n",
      "\n",
      "## Row exchanges\n",
      "\n",
      "What happens if we don't have a matrix in \"good\" form? What if we need to exchange rows to perform elimination and get ***L***? \n",
      "\n",
      "We'll need to know about *transposes* and *permutations*.\n",
      "\n",
      "*Permutation matrices* are the matrices you need in order to perform row exchanges. May have to do more than one row exchange!\n",
      "\n",
      "What are all the permutation matrices? Let's consider the $3 \\times 3$ case.\n",
      "\n",
      "All the 3x3 permuation matrices:\n",
      "\n",
      "First we have the identity (this is a permutation matrix that exchanges 0 rows):\n",
      "\n",
      "[[1, 0, 0],\n",
      " [0, 1, 0],\n",
      " [0, 0, 1]]\n",
      " \n",
      "Requires switching 1st & 2nd rows\n",
      "\n",
      "[[0, 1, 0],\n",
      " [1, 0, 0],\n",
      " [0, 0, 1]]\n",
      " \n",
      "All the ways we can take the identity and exchange its rows: 6 ways (including identity) (3!)\n",
      "\n",
      "This is a group of six matrices: p^1 = p.t\n",
      "\n",
      "Inverses of the permutation matrices are the transposes.\n",
      "\n",
      "How many 4x4 permutations? 24 (4!)"
     ]
    },
    {
     "cell_type": "code",
     "collapsed": false,
     "input": [
      "np.eye(3)"
     ],
     "language": "python",
     "metadata": {},
     "outputs": [
      {
       "metadata": {},
       "output_type": "pyout",
       "prompt_number": 4,
       "text": [
        "array([[ 1.,  0.,  0.],\n",
        "       [ 0.,  1.,  0.],\n",
        "       [ 0.,  0.,  1.]])"
       ]
      }
     ],
     "prompt_number": 4
    },
    {
     "cell_type": "markdown",
     "metadata": {},
     "source": [
      "What about switching the first and second rows?"
     ]
    },
    {
     "cell_type": "code",
     "collapsed": false,
     "input": [
      "P = np.array([[0, 1, 0],\n",
      "              [1, 0, 0],\n",
      "              [0, 0, 1]])\n",
      "\n",
      "print(P)"
     ],
     "language": "python",
     "metadata": {},
     "outputs": [
      {
       "output_type": "stream",
       "stream": "stdout",
       "text": [
        "[[0 1 0]\n",
        " [1 0 0]\n",
        " [0 0 1]]\n"
       ]
      }
     ],
     "prompt_number": 7
    },
    {
     "cell_type": "markdown",
     "metadata": {},
     "source": [
      "And so on. There are six ways to permute a $3 \\times 3$ matrix ($n!$ ways for an $n \\times n$ matrix).\n",
      "\n",
      "Interestingly, the inverses of the permutation matrices are their transposes. Let's see an example:"
     ]
    },
    {
     "cell_type": "code",
     "collapsed": false,
     "input": [
      "np.linalg.inv(P)"
     ],
     "language": "python",
     "metadata": {},
     "outputs": [
      {
       "metadata": {},
       "output_type": "pyout",
       "prompt_number": 9,
       "text": [
        "array([[ 0.,  1.,  0.],\n",
        "       [ 1.,  0.,  0.],\n",
        "       [ 0.,  0.,  1.]])"
       ]
      }
     ],
     "prompt_number": 9
    },
    {
     "cell_type": "code",
     "collapsed": false,
     "input": [
      "P.T"
     ],
     "language": "python",
     "metadata": {},
     "outputs": [
      {
       "metadata": {},
       "output_type": "pyout",
       "prompt_number": 10,
       "text": [
        "array([[0, 1, 0],\n",
        "       [1, 0, 0],\n",
        "       [0, 0, 1]])"
       ]
      }
     ],
     "prompt_number": 10
    }
   ],
   "metadata": {}
  }
 ]
}