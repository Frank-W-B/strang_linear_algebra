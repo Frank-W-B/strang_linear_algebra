{
 "metadata": {
  "name": "",
  "signature": "sha256:d14165f3dcb7edd7ac6be9570f544758183eb826a62021ed347e285c2593dc6d"
 },
 "nbformat": 3,
 "nbformat_minor": 0,
 "worksheets": [
  {
   "cells": [
    {
     "cell_type": "code",
     "collapsed": false,
     "input": [
      "from __future__ import division\n",
      "from __future__ import print_function\n",
      "\n",
      "from IPython.display import YouTubeVideo\n",
      "\n",
      "import numpy as np"
     ],
     "language": "python",
     "metadata": {},
     "outputs": [],
     "prompt_number": 1
    },
    {
     "cell_type": "code",
     "collapsed": false,
     "input": [
      "YouTubeVideo('JibVXBElKL0')"
     ],
     "language": "python",
     "metadata": {},
     "outputs": [
      {
       "html": [
        "\n",
        "        <iframe\n",
        "            width=\"400\"\n",
        "            height=300\"\n",
        "            src=\"https://www.youtube.com/embed/JibVXBElKL0\"\n",
        "            frameborder=\"0\"\n",
        "            allowfullscreen\n",
        "        ></iframe>\n",
        "        "
       ],
       "metadata": {},
       "output_type": "pyout",
       "prompt_number": 2,
       "text": [
        "<IPython.lib.display.YouTubeVideo at 0x7ff0b5b69ba8>"
       ]
      }
     ],
     "prompt_number": 2
    },
    {
     "cell_type": "markdown",
     "metadata": {},
     "source": [
      "For those following along in the text, this completes chapter 2. This completes section 2.7 on permutations and transposes and begins section 3.1 on vector spaces and subspaces.\n",
      "\n",
      "This is the beginning of \"real\" linear algebra -- not just vectors, but spaces and subspaces of vectors.\n",
      "\n",
      "Recall that permutations are matrices ***P*** that perform row exchanges. They *permute* a given matrix to get non-zeros in the pivot positions by exchanging with rows below.\n",
      "\n",
      "Take some matrix **A** and see that you need row exchanges for elimination.\n",
      "\n",
      "What then happens to the idea of $\\pmb{A} = \\pmb{LU}$?\n",
      "\n",
      "Remember that **L** was a lower diagonal matrix with ones on the diagnoal, zeros above the diagonal, and multipliers below the diagonal. **U** was an upper diagonal matrix with the pivots on the diagonal and zeros below the diagonal. This formula assumes there are no row exchanges. \n",
      "\n",
      "In reality, there *is* a permutation matrix **P** as we factorize **A** into **L** and **U**. It's just that **P** is the identity matrix.\n",
      "\n",
      "Strang takes an aside here to talk about how Matlab does elimination. Not only does it check to see if pivots are non-zero, but checks to see if they are sufficiently large for numerical computation purposes. Matlab may actually perform some row exchanges that \"algebra\" says are not necessary for elimination, but in order to preserve numerical accuracy, they are. In other words, floating points are hard.\n",
      "\n",
      "So where does **P** go in this formula?\n",
      "\n",
      "$\\pmb{PA} = \\pmb{LU}$ for any invertible $\\pmb{A}$. This is elimination with row exchanges.\n",
      "\n",
      "Just as a reminder, permutation matrices are just the identity matrix with reordered rows, providing $n!$ possible reorderings for a  $n \\times n$ matrix. All permutation matrices are invertible, where:\n",
      "\n",
      "$\\pmb{P}^{-1} = \\pmb{P}'$. \n",
      "\n",
      "$\\pmb{P}' \\times \\pmb{P} = \\pmb{I}$\n"
     ]
    },
    {
     "cell_type": "code",
     "collapsed": false,
     "input": [
      "A = np.array([[1, 3],\n",
      "              [2, 3],\n",
      "              [4, 1]])"
     ],
     "language": "python",
     "metadata": {},
     "outputs": [],
     "prompt_number": 5
    },
    {
     "cell_type": "code",
     "collapsed": false,
     "input": [
      "A.T # Transposing exchanges the dimensions"
     ],
     "language": "python",
     "metadata": {},
     "outputs": [
      {
       "metadata": {},
       "output_type": "pyout",
       "prompt_number": 8,
       "text": [
        "array([[1, 2, 4],\n",
        "       [3, 3, 1]])"
       ]
      }
     ],
     "prompt_number": 8
    },
    {
     "cell_type": "markdown",
     "metadata": {},
     "source": [
      "The $3 \\times 2$ matrix **A** becomes a $2 \\times 3$ matrix, where column 0 becomes row 0.\n",
      "\n",
      "What number is in $\\pmb{A}_{ij}'$? $\\pmb{A}_{ji}$. \n",
      "\n",
      "The transpose of a symmetric matrix is the same as the non-transposed matrix. In other words,\n",
      "\n",
      "$\\pmb{A}' = \\pmb{A}$"
     ]
    },
    {
     "cell_type": "code",
     "collapsed": false,
     "input": [
      "A = np.array([[3, 1, 7],\n",
      "              [1, 2, 9],\n",
      "              [7, 9, 4]])"
     ],
     "language": "python",
     "metadata": {},
     "outputs": [],
     "prompt_number": 9
    },
    {
     "cell_type": "code",
     "collapsed": false,
     "input": [
      "A.T"
     ],
     "language": "python",
     "metadata": {},
     "outputs": [
      {
       "metadata": {},
       "output_type": "pyout",
       "prompt_number": 10,
       "text": [
        "array([[3, 1, 7],\n",
        "       [1, 2, 9],\n",
        "       [7, 9, 4]])"
       ]
      }
     ],
     "prompt_number": 10
    },
    {
     "cell_type": "markdown",
     "metadata": {},
     "source": [
      "How do we get a symmetric matrix out of a recangular matrix? Multiply it by its transpose. Rectangular matrices multiplied by their transposes will always produce a symmetric matrix."
     ]
    },
    {
     "cell_type": "code",
     "collapsed": false,
     "input": [
      "A = np.array([[1, 3],\n",
      "              [2, 3],\n",
      "              [4, 1]])"
     ],
     "language": "python",
     "metadata": {},
     "outputs": [],
     "prompt_number": 14
    },
    {
     "cell_type": "code",
     "collapsed": false,
     "input": [
      "A.T.dot(A)"
     ],
     "language": "python",
     "metadata": {},
     "outputs": [
      {
       "metadata": {},
       "output_type": "pyout",
       "prompt_number": 15,
       "text": [
        "array([[21, 13],\n",
        "       [13, 19]])"
       ]
      }
     ],
     "prompt_number": 15
    },
    {
     "cell_type": "markdown",
     "metadata": {},
     "source": [
      "This is easy to see that it's symmetric, but if it's a bigger matrix, might be difficult. Easy to check with Python, though."
     ]
    },
    {
     "cell_type": "code",
     "collapsed": false,
     "input": [
      "np.array_equal(A.T.dot(A), (A.T.dot(A)).T)"
     ],
     "language": "python",
     "metadata": {},
     "outputs": [
      {
       "metadata": {},
       "output_type": "pyout",
       "prompt_number": 19,
       "text": [
        "True"
       ]
      }
     ],
     "prompt_number": 19
    },
    {
     "cell_type": "markdown",
     "metadata": {},
     "source": [
      "## Vector spaces\n",
      "\n",
      "What are vector spaces and subspaces? To define these, we need to know how to add matrices, multiply them by numbers (scalars), and some assorted rules.\n",
      "\n",
      "Example. What do we mean by *vector space*? Lots of vectors, a whole space of vectors (Strang is not great with this definition here). A space of vectors has to allow for addition and multiplication by scalars. And it must allow linear combinations.\n",
      "\n",
      "Here's an example vector space. $\\mathbb{R}^2$ is the vector space of all real numbers taken two at a time. In other words, all two-dimensional vectors of real numbers such as:"
     ]
    },
    {
     "cell_type": "markdown",
     "metadata": {},
     "source": [
      "\\begin{bmatrix}\n",
      "3 \\\\\n",
      "2\n",
      "\\end{bmatrix}\n",
      "\n",
      "\\begin{bmatrix}\n",
      "0 \\\\\n",
      "0\n",
      "\\end{bmatrix}\n",
      "\n",
      "\\begin{bmatrix}\n",
      "\\pi \\\\\n",
      "\\mathrm{e}\n",
      "\\end{bmatrix}\n",
      "\n",
      "So, what can we do with these vectors? We can add them together. The first component is on the x-axis and the second component is on the y-axis.\n",
      "\n",
      "The whole x-y plane is $\\mathbb{R}^2$. It constitutes a vector space because all of the 2-D vectors are contained within it. Imagine if we just removed the vector [0, 0] (the origin), it would be the x-y plane with a point removed. But we need that point there! We need to be able to multiply any of these vectors by *any* scalar, *including* 0. If we multiplied [3, 2] by 0, we'd get [0, 0], but that point isn't present in the plane with the origin removed.\n",
      "\n",
      "$\\mathbb{R}^3$ is also an easy vector space. It contains vectors with three components, all real numbers. \n",
      "\n",
      "### Rules for adding & multiplying in vector spaces\n",
      "\n",
      "It might be easier to start with saying what *isn't* a vector space. For instance the upper-right quadrant of the x-y plane, where $x > 0$ and $y > 0$. We can add all of these vectors safely because they'll all be positive. We can't multiply by any scalar, though.\n",
      "\n",
      "It's not *closed* under multiplication by all real numbers.\n",
      "\n",
      "Let's look at a smaller space (subspace) that does satisfy all the rules, a vector space inside $\\mathbb{R}^2$. We have to be able to multiply by any scalar, so we'll need a line and all multiples of a vector. That line must go through the origin (the zero vector) -- every subspace has to contain zero because we have to be able to allowed to multiply by zero.\n",
      "\n",
      "What are the possible subspaces of R^2?\n",
      "\n",
      "1) All of $\\mathbb^{2}$\n",
      "2) Lines going through [0, 0]\n",
      "3) The zero vector itself (sometimes called subspace $Z$)\n",
      "\n",
      "These subspaces come from matrices."
     ]
    },
    {
     "cell_type": "code",
     "collapsed": false,
     "input": [
      "A = np.array([[1, 3],\n",
      "              [2, 3],\n",
      "              [4, 1]])"
     ],
     "language": "python",
     "metadata": {},
     "outputs": [],
     "prompt_number": 20
    },
    {
     "cell_type": "markdown",
     "metadata": {},
     "source": [
      "Let's create some subspaces out of this matrix.\n",
      "\n",
      "The columns are in \\mathbb{R}^3. We want those columns to be in the subspace and we have to be able to take linear combinations.\n",
      "\n",
      "So, the columns and their linear combinations form a *vector subspace*. By linear combination we mean to multiply the columns by scalars and add the products. Unsurprisingly, this is called the *column space*. If we were to draw every vector in this space and their combinations, we would get a plane going through the origin."
     ]
    }
   ],
   "metadata": {}
  }
 ]
}