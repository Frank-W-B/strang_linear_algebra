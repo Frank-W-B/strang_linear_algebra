{
 "metadata": {
  "name": "",
  "signature": "sha256:4c5cd25d86ef11db3d3f2417b1e8c4745dec91e695b8c4ce11c041ec4288e091"
 },
 "nbformat": 3,
 "nbformat_minor": 0,
 "worksheets": [
  {
   "cells": [
    {
     "cell_type": "code",
     "collapsed": false,
     "input": [
      "from __future__ import division, print_function\n",
      "\n",
      "from IPython.display import YouTubeVideo\n",
      "\n",
      "import matplotlib.pyplot as plt\n",
      "import numpy as np\n",
      "\n",
      "%matplotlib inline"
     ],
     "language": "python",
     "metadata": {},
     "outputs": [],
     "prompt_number": 4
    },
    {
     "cell_type": "code",
     "collapsed": true,
     "input": [
      "YouTubeVideo('yjBerM5jWsc')"
     ],
     "language": "python",
     "metadata": {},
     "outputs": [
      {
       "html": [
        "\n",
        "        <iframe\n",
        "            width=\"400\"\n",
        "            height=300\"\n",
        "            src=\"https://www.youtube.com/embed/yjBerM5jWsc\"\n",
        "            frameborder=\"0\"\n",
        "            allowfullscreen\n",
        "        ></iframe>\n",
        "        "
       ],
       "metadata": {},
       "output_type": "pyout",
       "prompt_number": 3,
       "text": [
        "<IPython.lib.display.YouTubeVideo at 0x7fe529abe6d8>"
       ]
      }
     ],
     "prompt_number": 3
    },
    {
     "cell_type": "markdown",
     "metadata": {},
     "source": [
      "Topics for this lecture:\n",
      "\n",
      "- Linear *independence*\n",
      "- Spanning a space\n",
      "- Basis and dimension\n",
      "\n",
      "Suppose $\\mathbf{A}$ is an $m \\times n$ matrix with $m < n$. Then there are *nonzero* solutions to $\\mathbf{A}x = 0$. In other words, there are more columns than rows -- more unknowns than equations.\n",
      "\n",
      "Recalling previous lectures, this mean's there's something in the *null space* of $\\mathbf{A}$ more than just the zero vector -- there will be free columns/variables when we try to solve such a matrix using elimination. We know from previous lectures that there will be *at most* $m$ pivots and *at least* $m - n$ free variables.\n",
      "\n",
      "## Independence\n",
      "\n",
      "Formal definition: vectors $x_1, x_2, ..., x_n$ are *linearly independent* if no combination (other than all zeros) produces the zero vector. \n",
      "\n",
      "$c_1x_1 + c_2x_2 + ... + c_nx_n \\neq 0$ except when all $c_i = 0$.\n",
      "\n",
      "Example in two-dimensional space. Say we have a vector and twice that vector."
     ]
    },
    {
     "cell_type": "code",
     "collapsed": false,
     "input": [
      "v_x = [0, 1]\n",
      "v_2_x = [0, 2]\n",
      "\n",
      "v_y = [0, 1]\n",
      "v_2_y  = [0, 2]\n",
      "\n",
      "fig, ax = plt.subplots()\n",
      "ax.set(xlim=[0, 2], ylim=[0, 2])\n",
      "ax.plot(v_x, v_y, c='k', label='$v$')\n",
      "ax.plot(v_2_x, v_2_y, 'r--', label='$2v$')\n",
      "ax.set_title('Dependent vectors')\n",
      "ax.legend(loc='best')"
     ],
     "language": "python",
     "metadata": {},
     "outputs": [
      {
       "metadata": {},
       "output_type": "pyout",
       "prompt_number": 21,
       "text": [
        "<matplotlib.legend.Legend at 0x7fe508da27b8>"
       ]
      },
      {
       "metadata": {},
       "output_type": "display_data",
       "png": "[encoded data removed]",
       "text": [
        "<matplotlib.figure.Figure at 0x7fe508b9f710>"
       ]
      }
     ],
     "prompt_number": 21
    },
    {
     "cell_type": "markdown",
     "metadata": {},
     "source": [
      "We can see that these are dependent because $2 * v - 2v = 0.$ What if the second vector is the zero vector? They're still dependent, because we can combine them to get the zero vector."
     ]
    },
    {
     "cell_type": "code",
     "collapsed": false,
     "input": [
      "v_x = [0, 2]\n",
      "v_2_x = [0, 1]\n",
      "\n",
      "v_y = [0, 1]\n",
      "v_2_y  = [0, 2]\n",
      "\n",
      "fig, ax = plt.subplots()\n",
      "ax.set(xlim=[0, 2], ylim=[0, 2])\n",
      "ax.plot(v_x, v_y, c='k', label='$v_1$')\n",
      "ax.plot(v_2_x, v_2_y, 'k--', label='$v_2$')\n",
      "ax.set_title('Independent vectors')\n",
      "ax.legend(loc='best')"
     ],
     "language": "python",
     "metadata": {},
     "outputs": [
      {
       "metadata": {},
       "output_type": "pyout",
       "prompt_number": 40,
       "text": [
        "<matplotlib.legend.Legend at 0x7fe5087de240>"
       ]
      },
      {
       "metadata": {},
       "output_type": "display_data",
       "png": "[encoded data removed]",
       "text": [
        "<matplotlib.figure.Figure at 0x7fe5084008d0>"
       ]
      }
     ],
     "prompt_number": 40
    },
    {
     "cell_type": "markdown",
     "metadata": {},
     "source": [
      "What if we add a third vector in? "
     ]
    },
    {
     "cell_type": "code",
     "collapsed": false,
     "input": [
      "v_x = [0, 2]\n",
      "v_2_x = [0, 1]\n",
      "v_3_x = [0, 2.5]\n",
      "\n",
      "v_y = [0, 1]\n",
      "v_2_y  = [0, 2]\n",
      "v_3_y = [0, -1]\n",
      "\n",
      "fig, ax = plt.subplots()\n",
      "ax.set(xlim=[0, 2], ylim=[-1.5, 2.5])\n",
      "ax.plot(v_x, v_y, c='k', label='$v_1$')\n",
      "ax.plot(v_2_x, v_2_y, 'k--', label='$v_2$')\n",
      "ax.plot(v_3_x, v_3_y, 'k-.', label='$v_3$')\n",
      "\n",
      "ax.set_title('Dependent vectors')\n",
      "ax.legend(loc='best')"
     ],
     "language": "python",
     "metadata": {},
     "outputs": [
      {
       "metadata": {},
       "output_type": "pyout",
       "prompt_number": 42,
       "text": [
        "<matplotlib.legend.Legend at 0x7fe508394a90>"
       ]
      },
      {
       "metadata": {},
       "output_type": "display_data",
       "png": "[encoded data removed]",
       "text": [
        "<matplotlib.figure.Figure at 0x7fe50841acf8>"
       ]
      }
     ],
     "prompt_number": 42
    },
    {
     "cell_type": "markdown",
     "metadata": {},
     "source": [
      "These are dependent now -- how do we know?\n",
      "\n",
      "There are **three** vectors in this plane -- in *two-dimensional* space! That means we have more equations than unknowns.\n",
      "\n",
      "Put another way, let's put these three vectors in a matrix, where each column is a vector."
     ]
    },
    {
     "cell_type": "code",
     "collapsed": false,
     "input": [
      "A = np.array([[2, 1, 2.5],\n",
      "              [1, 2, -1]])"
     ],
     "language": "python",
     "metadata": {},
     "outputs": [],
     "prompt_number": 43
    },
    {
     "cell_type": "markdown",
     "metadata": {},
     "source": [
      "This is a $2 \\times 3$ matrix, where $n > m$. We know there is some combination $c1, c2, c3$ that gives the zero vector. So, with *dependence*, we're interested in whether or not the *columns* are dependent.\n",
      "\n",
      "Put another way, given a series of vectors $v_1, v_2, ..., v_n$ as the columns of a matrix $\\mathbf{A}$, the vectors are *independent* if the nullspace of $\\mathbf{A}$ is only the zero vector. They are *dependent* if the null space contains more than the zero vector.\n",
      "\n",
      "$\\mathbf{A}c = 0$ for some non-zero $c$.\n",
      "\n",
      "Put another way, the rank $r$ of a matrix in which the columns are *independent* is when $r = n$. They are dependent when $r < n$.\n",
      "\n",
      "## Spanning a space\n",
      "\n",
      "What does it mean for a bunch of vectors to span a space?\n",
      "\n",
      "Remember that the column space of a matrix is all the combinations of the columns of that matrix. We can say that the original columns that we use to take combinations with *span the column space*. \n",
      "\n",
      "Vectors $v1, ..., v_l$ span a space (vector space, subspace, etc.) when the space consists of all combinations of those vectors. \n",
      "\n",
      "If you have a set of vectors and are told that they span some space $s$, then that's the *smallest possible* space with those vectors in it, because it must contain all the vectors and all possible combinations.\n",
      "\n",
      "## Basis\n",
      "\n",
      "A basis for a vector space is a *sequence of vectors* $v_1, v_2, ..., v_d$ that has two properties:\n",
      "\n",
      "1) The vectors are independent.\n",
      "2) They span the space.\n",
      "\n",
      "Some examples, starting with three-dimensional space ($\\mathbb{R}^3$).\n",
      "\n",
      "One basis that's easy (called the *standard basis):"
     ]
    },
    {
     "cell_type": "code",
     "collapsed": false,
     "input": [
      "v_1 = np.array([1, 0, 0])\n",
      "v_2 = np.array([0, 1, 0])\n",
      "v_3 = np.array([0, 0, 1])"
     ],
     "language": "python",
     "metadata": {},
     "outputs": [],
     "prompt_number": 44
    },
    {
     "cell_type": "markdown",
     "metadata": {},
     "source": [
      "Are these vectors independent? Yes. The only way we can take combinations of these three vectors and get the zero vector is by using the zero vector.\n",
      "\n",
      "If these are columns of a matrix, they form the identity matrix. What's the null space of an identity matrix? It's only the zero vector, so the columns are independent.\n",
      "\n",
      "Another basis."
     ]
    },
    {
     "cell_type": "markdown",
     "metadata": {},
     "source": [
      "## Correction\n",
      "\n",
      "The original lecture 9 contains an error. The three vectors that follow do **not** form an invertible matrix because it produces a matrix with two identical rows. Strang does not provide a new set of vectors, but points out this error in lecture 10."
     ]
    },
    {
     "cell_type": "code",
     "collapsed": false,
     "input": [
      "v_1 = np.array([1, 1, 2])\n",
      "v_2 = np.array([2, 2, 5])\n",
      "v_3 = np.array([3, 3, 8])"
     ],
     "language": "python",
     "metadata": {},
     "outputs": [],
     "prompt_number": 45
    },
    {
     "cell_type": "code",
     "collapsed": false,
     "input": [
      "np.c_[v_1, v_2, v_3]"
     ],
     "language": "python",
     "metadata": {},
     "outputs": [
      {
       "metadata": {},
       "output_type": "pyout",
       "prompt_number": 51,
       "text": [
        "array([[1, 2, 3],\n",
        "       [1, 2, 3],\n",
        "       [2, 5, 8]])"
       ]
      }
     ],
     "prompt_number": 51
    },
    {
     "cell_type": "markdown",
     "metadata": {},
     "source": [
      "$n$ vectors give a basis if the $n \\times n$ matrix with those columns is invertible.\n",
      " \n",
      "What if we just look at the first two vectors, $v_1$ and $v_2$. Are those vectors a basis for any space? Yes, they're independent, so we just need to know what space they span. It'll be a plane inside $\\mathbb{R}^3$. \n",
      "\n",
      "If we also include the third column, we can say the following: given any *invertible* $3 \\times 3$ matrix, its columns are a basis for $\\mathbb{R}^3$. There are many bases, but they all have the same number of vectors (within a given space). \n",
      "\n",
      "That number is the *dimension* of that space. \n"
     ]
    },
    {
     "cell_type": "code",
     "collapsed": false,
     "input": [
      "A = np.array([[1, 2, 3, 1],\n",
      "              [1, 1, 2, 1],\n",
      "              [1, 2, 3, 1]])"
     ],
     "language": "python",
     "metadata": {},
     "outputs": [],
     "prompt_number": 53
    },
    {
     "cell_type": "markdown",
     "metadata": {},
     "source": [
      "Four vectors -- do they span the column space of the matrix? Yes. By definition, that's what the column space does. Are they a basis? No, they're not independent.\n",
      "\n",
      "What's in the null space of $\\mathbf{A}$?"
     ]
    },
    {
     "cell_type": "code",
     "collapsed": false,
     "input": [
      "n_A = np.array([-1, -1, 1, 0])"
     ],
     "language": "python",
     "metadata": {},
     "outputs": [],
     "prompt_number": 54
    },
    {
     "cell_type": "code",
     "collapsed": false,
     "input": [
      "A.dot(n_A)"
     ],
     "language": "python",
     "metadata": {},
     "outputs": [
      {
       "metadata": {},
       "output_type": "pyout",
       "prompt_number": 55,
       "text": [
        "array([0, 0, 0])"
       ]
      }
     ],
     "prompt_number": 55
    },
    {
     "cell_type": "markdown",
     "metadata": {},
     "source": [
      "What is a basis for the column space of $\\mathbf{A}$?\n",
      "\n",
      "Columns 1 and 2! Those are the pivot columns. The rank is $r = 2$. The dimension of the the column space is also 2. The terminology is important here. Matrices have *rank*, where spaces have *dimension*. A subspace doesn't have a rank.\n",
      "\n",
      "What's another basis for the column space? Could take columns 1 and 3. 2 and 3 would also work. Or 2 and 4. And so on.\n",
      "\n",
      "dim($\\mathbf{A}$) = $r$.\n",
      "\n",
      "What's the dimension of the null space? We already know one vector, from above (`n_a`)."
     ]
    },
    {
     "cell_type": "code",
     "collapsed": false,
     "input": [
      "n_a_2 = np.array([-1, 0, 0, 1])"
     ],
     "language": "python",
     "metadata": {},
     "outputs": [],
     "prompt_number": 56
    },
    {
     "cell_type": "markdown",
     "metadata": {},
     "source": [
      "These are actually the two \"special solutions\", where we give the free variables the values 1, 0 and work out the rest. So the null space is actually showing us how the columns are dependent.\n",
      "\n",
      "What's the dimension? It's 2. The dimension of the null space is the number of *free variables.*"
     ]
    }
   ],
   "metadata": {}
  }
 ]
}