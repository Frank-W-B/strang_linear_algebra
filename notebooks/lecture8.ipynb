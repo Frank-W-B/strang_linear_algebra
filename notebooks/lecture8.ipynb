{
 "metadata": {
  "name": "",
  "signature": "sha256:b6d0a35c9e6a8a3938698ee382307358fbbd20f2c47cf1bbb840ee631a4cb825"
 },
 "nbformat": 3,
 "nbformat_minor": 0,
 "worksheets": [
  {
   "cells": [
    {
     "cell_type": "code",
     "collapsed": true,
     "input": [
      "from __future__ import division, print_function\n",
      "\n",
      "import numpy as np\n",
      "\n",
      "from IPython.display import YouTubeVideo"
     ],
     "language": "python",
     "metadata": {},
     "outputs": [],
     "prompt_number": 1
    },
    {
     "cell_type": "code",
     "collapsed": false,
     "input": [
      "YouTubeVideo('9Q1q7s1jTzU')"
     ],
     "language": "python",
     "metadata": {},
     "outputs": [
      {
       "html": [
        "\n",
        "        <iframe\n",
        "            width=\"400\"\n",
        "            height=300\"\n",
        "            src=\"https://www.youtube.com/embed/9Q1q7s1jTzU\"\n",
        "            frameborder=\"0\"\n",
        "            allowfullscreen\n",
        "        ></iframe>\n",
        "        "
       ],
       "metadata": {},
       "output_type": "pyout",
       "prompt_number": 2,
       "text": [
        "<IPython.lib.display.YouTubeVideo at 0x7f1be6435f98>"
       ]
      }
     ],
     "prompt_number": 2
    },
    {
     "cell_type": "markdown",
     "metadata": {},
     "source": [
      "- Complete solution for $\\mathbf{A}x = b$ is the goal (if it has a solution)\n",
      "\n",
      "Need to be able to identify when a system of equations does not have a solution; if there is, need to be able to identify if there is a unique solution or is there a family of solutions."
     ]
    },
    {
     "cell_type": "code",
     "collapsed": false,
     "input": [
      "A = np.array([[1, 2, 2, 2],\n",
      "              [2, 4, 6, 8],\n",
      "              [3, 6, 8, 10]])\n",
      "A"
     ],
     "language": "python",
     "metadata": {},
     "outputs": [
      {
       "metadata": {},
       "output_type": "pyout",
       "prompt_number": 4,
       "text": [
        "array([[ 1,  2,  2,  2],\n",
        "       [ 2,  4,  6,  8],\n",
        "       [ 3,  6,  8, 10]])"
       ]
      }
     ],
     "prompt_number": 4
    },
    {
     "cell_type": "markdown",
     "metadata": {},
     "source": [
      "Now, instead of solving for the zero vector $[0, 0, 0]$, we'll be solving for an unknown vector of $b$s, $[b_1, b_2, b_3]$.\n",
      "\n",
      "Recall from last time that the third row is the sum of the first two rows, so we know that $b_3$ must also be the sum of $b_2$ and $b_3$, which means we can already rule out some solutions.\n",
      "\n",
      "What does this look like in elimination?\n",
      "\n",
      "We just need to tack on the RHS to our matrix as another column to produce the *augmented* matrix, $[\\mathbf{A}b]$."
     ]
    },
    {
     "cell_type": "markdown",
     "metadata": {},
     "source": [
      "<center>\n",
      "$\n",
      "\\left[\n",
      "\\begin{array}{cccc|c}\n",
      "1 & 2 & 2 & 2 & b_1 \\\\\n",
      "2 & 4 & 6 & 8 & b_2 \\\\\n",
      "3 & 6 & 8 & 10 & b_3\n",
      "\\end{array}\n",
      "\\right]\n",
      "$\n",
      "</center>"
     ]
    },
    {
     "cell_type": "markdown",
     "metadata": {},
     "source": [
      "Walking through elimination:\n",
      "\n",
      "<center>\n",
      "$\n",
      "\\left[\n",
      "\\begin{array}{cccc|c}\n",
      "1 & 2 & 2 & 2 & b_1 \\\\\n",
      "0 & 0 & 2 & 4 & (b_2 - 2b_1) \\\\\n",
      "0 & 0 & 2 & 4 & (b_3 - 3b_1)\n",
      "\\end{array}\n",
      "\\right]\n",
      "$\n",
      "</center>"
     ]
    },
    {
     "cell_type": "markdown",
     "metadata": {},
     "source": [
      "<center>\n",
      "$\n",
      "\\left[\n",
      "\\begin{array}{cccc|c}\n",
      "1 & 2 & 2 & 2 & b_1 \\\\\n",
      "0 & 0 & 2 & 4 & (b_2 - 2b_1) \\\\\n",
      "0 & 0 & 0 & 0 & (b_3 - b_2 - b_1)\n",
      "\\end{array}\n",
      "\\right]\n",
      "$\n",
      "</center>"
     ]
    },
    {
     "cell_type": "markdown",
     "metadata": {},
     "source": [
      "So the last equation is telling us that $0 = b_3 - b_2 - b_1$. Strang calls this the condition for \"solvability.\" Since we know that equation 1 and 2 sum to equation 3, it must also be true that subtracting $b_2$ and $b_1$ from $b_3$ will produce zero.\n",
      "\n",
      "What are some example solutions that would work?\n",
      "\n",
      "$b = [1, 5, 6]$ would work. When we plug these values in, what do we get? $[1, (5 - 2), (6 - 5 - 1)] = [1, 3, 0]$."
     ]
    },
    {
     "cell_type": "markdown",
     "metadata": {},
     "source": [
      "**Solvability condition on b**: $\\mathbf{A}x = b$ is solvable when when $b$ is in the *column space* of $\\mathbf{A}, C(\\mathbf{A})$. This is just saying that $b$ has to be a combination of the columns of $\\mathbf{A}$.\n",
      "\n",
      "Another way to phrase this: if a combination of the rows of $\\mathbf{A}$ gives the zero row, then the same combination of the components of $b$ has to produce a zero.\n",
      "\n",
      "So what is the algorithm / sequence of steps to find the complete solution?\n",
      "\n",
      "### First, finding a single, particular solution, $x_{particular}$\n",
      "\n",
      "1. Set all free variables to zero. \n",
      "2. Solve $\\mathbf{A}x = b$ for the pivot variables. \n",
      "\n",
      "$x_2$ and $x_4$ in the example above are the free variables. This means:\n",
      "\n",
      "$x_1 + 2x_3 = 1$ and $2x_3 = 3$, so we know that $x_3 = \\frac{3}{2}$ and $x_1 = -2$. So, a particular solution is:\n",
      "\n",
      "$\n",
      "x = \\begin{bmatrix} -2 \\\\ 0 \\\\ \\frac{3}{2} \\\\ 0 \\end{bmatrix}\n",
      "$"
     ]
    },
    {
     "cell_type": "markdown",
     "metadata": {},
     "source": [
      "### Second, add on anything out of the null space $N(\\mathbf{A})$, $x_{nullspace}$\n",
      "\n",
      "So, the complete solution is:\n",
      "\n",
      "$x = x_{particular} + x_{nullspace}$\n",
      "\n",
      "Or, alternatively:\n",
      "\n",
      "$\\mathbf{A}x_p = b \\\\\n",
      "\\mathbf{A}x_n = 0$\n",
      "\n",
      "Adding these two, you get:\n",
      "\n",
      "$\\mathbf{A}(x_p + x_n) = b + 0$\n",
      "\n",
      "For the example above (using the solutions from the previous lecture as well where we solved for the case when the free variables were set to 0 and 1):"
     ]
    },
    {
     "cell_type": "markdown",
     "metadata": {},
     "source": [
      "<center>\n",
      "$x_{complete} = \n",
      "\\begin{bmatrix}\n",
      "-2 \\\\ 0 \\\\ \\frac{3}{2} \\\\ 0\n",
      "\\end{bmatrix} \n",
      "+\n",
      "c_1\n",
      "\\begin{bmatrix}\n",
      "-2 \\\\ 1 \\\\ 0 \\\\ 0\n",
      "\\end{bmatrix} \n",
      "+\n",
      "c_2\n",
      "\\begin{bmatrix}\n",
      "2 \\\\ 0 \\\\ -2 \\\\ 1\n",
      "\\end{bmatrix} \n",
      "$\n",
      "</center>"
     ]
    },
    {
     "cell_type": "markdown",
     "metadata": {},
     "source": [
      "(Remember that the null space consists of all combinations of the \"special solutions\", where is where we get $c_1$ and $c_2$ -- there were two such solutions because there were two free variables.)\n",
      "\n",
      "We don't multiply the *particular* solution by any constant. Only the nullspace solutions.\n",
      "\n",
      "If we were to plot the solutions, they would be in $\\mathbb{R}^4$. Do they form a subspace? No. The nullspace is a two-dimensional subspace inside $\\mathbb{R}^4$ (where the dimensions are the number of free variables), but doesn't go through the origin because it goes through $x_{particular}$. "
     ]
    },
    {
     "cell_type": "markdown",
     "metadata": {},
     "source": [
      "Let's generalize this to an $m \\times n$ matrix of rank $r$. Remembering that we're defining rank as the number of pivots.\n",
      "\n",
      "If there are $m$ rows and $r$ pivots, we know that $r \\leq m$. Can't have more pivots than rows. The same relationship applies to the $n$ columns. \n",
      "\n",
      "When the rank is as big as it can be, we say the matrix is of *full rank*. \n",
      "\n",
      "Full column rank: $r = n$. This means a pivot in every column ($n$ pivots), which means there are *no* free variables. Which means that the nullspace of A only has the zero vector in it, meaning the solution to $\\mathbf{A}x = b = x_{particular}$ if there is any solution at all. It has a **unique** solution **if** a solution exists.\n",
      "\n",
      "So, when a matrix is of full column rank there are either 0 or 1 solutions."
     ]
    },
    {
     "cell_type": "code",
     "collapsed": false,
     "input": [
      "A = np.array([[1, 3],\n",
      "              [2, 1],\n",
      "              [6, 1],\n",
      "              [5, 1]])"
     ],
     "language": "python",
     "metadata": {},
     "outputs": [],
     "prompt_number": 6
    },
    {
     "cell_type": "code",
     "collapsed": false,
     "input": [
      "np.linalg.matrix_rank(A)"
     ],
     "language": "python",
     "metadata": {},
     "outputs": [
      {
       "metadata": {},
       "output_type": "pyout",
       "prompt_number": 7,
       "text": [
        "2"
       ]
      }
     ],
     "prompt_number": 7
    },
    {
     "cell_type": "code",
     "collapsed": false,
     "input": [
      "# reduced row echelon form of this would be:\n",
      "R = np.array([[1, 0],\n",
      "              [0, 1],\n",
      "              [0, 0],\n",
      "              [0, 0]])"
     ],
     "language": "python",
     "metadata": {},
     "outputs": [],
     "prompt_number": 8
    },
    {
     "cell_type": "markdown",
     "metadata": {},
     "source": [
      "This matrix has full column rank. There are two columns and two pivots. There's nothing in the nullspace but the zero vector. There would only be a solution if we picked a $b$ RHS such that it was a combination of the LHS. For instance, $b = [4, 3, 7, 6]$ which means $x = [1, 1]$. That's it, a case with one solution. "
     ]
    },
    {
     "cell_type": "markdown",
     "metadata": {},
     "source": [
      "What about full row rank? This means $r = m$. As Strang says, \"what's up with that?\" There are $m$ pivots, so when we do elimination, every row has a pivot. When can we solve this? We can solve $\\mathbf{A}x = b$ for which $b$? There are no zero rows, so there are no requirements on $b$, so we can solve this system for *every* $b$. \n",
      "\n",
      "Since every row has a pivot, there are $n - r$ free variables (or $n - m$ free variables).\n",
      "\n",
      "An example -- let's transpose the above."
     ]
    },
    {
     "cell_type": "code",
     "collapsed": false,
     "input": [
      "A = A.T\n",
      "A"
     ],
     "language": "python",
     "metadata": {},
     "outputs": [
      {
       "metadata": {},
       "output_type": "pyout",
       "prompt_number": 9,
       "text": [
        "array([[1, 2, 6, 5],\n",
        "       [3, 1, 1, 1]])"
       ]
      }
     ],
     "prompt_number": 9
    },
    {
     "cell_type": "code",
     "collapsed": false,
     "input": [
      "np.linalg.matrix_rank(A)"
     ],
     "language": "python",
     "metadata": {},
     "outputs": [
      {
       "metadata": {},
       "output_type": "pyout",
       "prompt_number": 10,
       "text": [
        "2"
       ]
      }
     ],
     "prompt_number": 10
    },
    {
     "cell_type": "markdown",
     "metadata": {},
     "source": [
      "In RREF, the identity matrix will be in the first two columns, and the last two columns will hold **F**."
     ]
    },
    {
     "cell_type": "markdown",
     "metadata": {},
     "source": [
      "What about $r = m = n$? This is a matrix of **full rank**."
     ]
    },
    {
     "cell_type": "code",
     "collapsed": false,
     "input": [
      "A = np.array([[1, 2],\n",
      "              [3, 1]])"
     ],
     "language": "python",
     "metadata": {},
     "outputs": [],
     "prompt_number": 12
    },
    {
     "cell_type": "markdown",
     "metadata": {},
     "source": [
      "It's a square matrix of full rank, and it's invertible, and the reduced row echelon form of this matrix is the identity.\n",
      "\n",
      "The nullspace for this matrix is only the zero vector. There are no conditions on $b$. We can solve for every $b$ and since $m = n$, there's a *unique* solution!\n",
      "\n",
      "Summarizing:\n",
      "\n",
      "- $r = m = n$   : one unique solution to $\\mathbf{A}x = b$.\n",
      "- $r = n < m$   : zero or one solution\n",
      "- $r = m < n$   : infinitely many solutions\n",
      "- $r < m, r < n$ : no solution or infinitely many solutions. \n",
      "\n",
      "If you've worked in statistics or machine learning before, we're really starting to get into some useful knowledge here. We're now learning why traditional methods like ordinary least squares regression have a problem when there are more columns that there are rows (you may see this referred to as $p > n$ in the literature) and why methods that address this such as regularization or non-parametrics, can be so appealing."
     ]
    }
   ],
   "metadata": {}
  }
 ]
}